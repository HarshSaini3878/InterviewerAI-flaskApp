{
 "cells": [
  {
   "cell_type": "code",
   "execution_count": 2,
   "metadata": {},
   "outputs": [],
   "source": [
    "import openai \n",
    "from dotenv import load_dotenv\n",
    "import os\n",
    "\n",
    "load_dotenv()\n",
    "\n",
    "openai.api_key = os.getenv(\"OPENAI_API_KEY\")"
   ]
  },
  {
   "cell_type": "code",
   "execution_count": 16,
   "metadata": {},
   "outputs": [],
   "source": [
    "def get_completion_from_messages(messages):\n",
    "    response = openai.chat.completions.create(\n",
    "        model=\"gpt-3.5-turbo\",\n",
    "        messages=messages,\n",
    "        temperature=0, \n",
    "    )\n",
    "    return response #.choices[0].message.content"
   ]
  },
  {
   "cell_type": "code",
   "execution_count": 17,
   "metadata": {},
   "outputs": [
    {
     "name": "stdout",
     "output_type": "stream",
     "text": [
      "ChatCompletion(id='chatcmpl-8vu12truvl9Ati8GeUQl1ov1SrXwE', choices=[Choice(finish_reason='stop', index=0, logprobs=None, message=ChatCompletionMessage(content='Your name is Ratan Prakash.', role='assistant', function_call=None, tool_calls=None))], created=1708810712, model='gpt-3.5-turbo-0125', object='chat.completion', system_fingerprint='fp_86156a94a0', usage=CompletionUsage(completion_tokens=8, prompt_tokens=74, total_tokens=82))\n"
     ]
    }
   ],
   "source": [
    "messages =  [  \n",
    "{'role':'system', 'content':'You are friendly chatbot.'},\n",
    "{'role':'user', 'content':'Hi, my name is Ratan Prakash and I am a software engineer.'},\n",
    "{'role':'assistant', 'content': \"Hi Ratan! It's nice to meet you. \\\n",
    "Is there anything I can help you with today?\"},\n",
    "{'role':'user', 'content':'Yes, you can remind me, What is my name?'}  ]\n",
    "response = get_completion_from_messages(messages)\n",
    "print(response)"
   ]
  },
  {
   "cell_type": "code",
   "execution_count": 12,
   "metadata": {},
   "outputs": [
    {
     "name": "stdout",
     "output_type": "stream",
     "text": [
      "Your name is Ratan Prakash.\n"
     ]
    }
   ],
   "source": [
    "content = response.choices[0].message.content\n",
    "print(content)\n"
   ]
  },
  {
   "cell_type": "code",
   "execution_count": 18,
   "metadata": {},
   "outputs": [
    {
     "ename": "NameError",
     "evalue": "name 'objc' is not defined",
     "output_type": "error",
     "traceback": [
      "\u001b[0;31m---------------------------------------------------------------------------\u001b[0m",
      "\u001b[0;31mKeyError\u001b[0m                                  Traceback (most recent call last)",
      "File \u001b[0;32m~/PycharmProjects/InterviewerAI/venv/lib/python3.9/site-packages/pyttsx3/__init__.py:20\u001b[0m, in \u001b[0;36minit\u001b[0;34m(driverName, debug)\u001b[0m\n\u001b[1;32m     19\u001b[0m \u001b[38;5;28;01mtry\u001b[39;00m:\n\u001b[0;32m---> 20\u001b[0m     eng \u001b[38;5;241m=\u001b[39m \u001b[43m_activeEngines\u001b[49m\u001b[43m[\u001b[49m\u001b[43mdriverName\u001b[49m\u001b[43m]\u001b[49m\n\u001b[1;32m     21\u001b[0m \u001b[38;5;28;01mexcept\u001b[39;00m \u001b[38;5;167;01mKeyError\u001b[39;00m:\n",
      "File \u001b[0;32m/Applications/Xcode.app/Contents/Developer/Library/Frameworks/Python3.framework/Versions/3.9/lib/python3.9/weakref.py:134\u001b[0m, in \u001b[0;36mWeakValueDictionary.__getitem__\u001b[0;34m(self, key)\u001b[0m\n\u001b[1;32m    133\u001b[0m     \u001b[38;5;28mself\u001b[39m\u001b[38;5;241m.\u001b[39m_commit_removals()\n\u001b[0;32m--> 134\u001b[0m o \u001b[38;5;241m=\u001b[39m \u001b[38;5;28;43mself\u001b[39;49m\u001b[38;5;241;43m.\u001b[39;49m\u001b[43mdata\u001b[49m\u001b[43m[\u001b[49m\u001b[43mkey\u001b[49m\u001b[43m]\u001b[49m()\n\u001b[1;32m    135\u001b[0m \u001b[38;5;28;01mif\u001b[39;00m o \u001b[38;5;129;01mis\u001b[39;00m \u001b[38;5;28;01mNone\u001b[39;00m:\n",
      "\u001b[0;31mKeyError\u001b[0m: None",
      "\nDuring handling of the above exception, another exception occurred:\n",
      "\u001b[0;31mNameError\u001b[0m                                 Traceback (most recent call last)",
      "Cell \u001b[0;32mIn[18], line 11\u001b[0m\n\u001b[1;32m      9\u001b[0m \u001b[38;5;66;03m# Example usage:\u001b[39;00m\n\u001b[1;32m     10\u001b[0m text \u001b[38;5;241m=\u001b[39m \u001b[38;5;124m\"\u001b[39m\u001b[38;5;124mHello, how are you?\u001b[39m\u001b[38;5;124m\"\u001b[39m\n\u001b[0;32m---> 11\u001b[0m \u001b[43mtext_to_speech\u001b[49m\u001b[43m(\u001b[49m\u001b[43mtext\u001b[49m\u001b[43m)\u001b[49m\n",
      "Cell \u001b[0;32mIn[18], line 4\u001b[0m, in \u001b[0;36mtext_to_speech\u001b[0;34m(text, rate)\u001b[0m\n\u001b[1;32m      3\u001b[0m \u001b[38;5;28;01mdef\u001b[39;00m \u001b[38;5;21mtext_to_speech\u001b[39m(text, rate\u001b[38;5;241m=\u001b[39m\u001b[38;5;241m150\u001b[39m):\n\u001b[0;32m----> 4\u001b[0m     engine \u001b[38;5;241m=\u001b[39m \u001b[43mpyttsx3\u001b[49m\u001b[38;5;241;43m.\u001b[39;49m\u001b[43minit\u001b[49m\u001b[43m(\u001b[49m\u001b[43m)\u001b[49m\n\u001b[1;32m      5\u001b[0m     engine\u001b[38;5;241m.\u001b[39msetProperty(\u001b[38;5;124m'\u001b[39m\u001b[38;5;124mrate\u001b[39m\u001b[38;5;124m'\u001b[39m, rate)  \u001b[38;5;66;03m# Adjust the speech rate (words per minute)\u001b[39;00m\n\u001b[1;32m      6\u001b[0m     engine\u001b[38;5;241m.\u001b[39msay(text)\n",
      "File \u001b[0;32m~/PycharmProjects/InterviewerAI/venv/lib/python3.9/site-packages/pyttsx3/__init__.py:22\u001b[0m, in \u001b[0;36minit\u001b[0;34m(driverName, debug)\u001b[0m\n\u001b[1;32m     20\u001b[0m     eng \u001b[38;5;241m=\u001b[39m _activeEngines[driverName]\n\u001b[1;32m     21\u001b[0m \u001b[38;5;28;01mexcept\u001b[39;00m \u001b[38;5;167;01mKeyError\u001b[39;00m:\n\u001b[0;32m---> 22\u001b[0m     eng \u001b[38;5;241m=\u001b[39m \u001b[43mEngine\u001b[49m\u001b[43m(\u001b[49m\u001b[43mdriverName\u001b[49m\u001b[43m,\u001b[49m\u001b[43m \u001b[49m\u001b[43mdebug\u001b[49m\u001b[43m)\u001b[49m\n\u001b[1;32m     23\u001b[0m     _activeEngines[driverName] \u001b[38;5;241m=\u001b[39m eng\n\u001b[1;32m     24\u001b[0m \u001b[38;5;28;01mreturn\u001b[39;00m eng\n",
      "File \u001b[0;32m~/PycharmProjects/InterviewerAI/venv/lib/python3.9/site-packages/pyttsx3/engine.py:30\u001b[0m, in \u001b[0;36mEngine.__init__\u001b[0;34m(self, driverName, debug)\u001b[0m\n\u001b[1;32m     20\u001b[0m \u001b[38;5;28;01mdef\u001b[39;00m \u001b[38;5;21m__init__\u001b[39m(\u001b[38;5;28mself\u001b[39m, driverName\u001b[38;5;241m=\u001b[39m\u001b[38;5;28;01mNone\u001b[39;00m, debug\u001b[38;5;241m=\u001b[39m\u001b[38;5;28;01mFalse\u001b[39;00m):\n\u001b[1;32m     21\u001b[0m \u001b[38;5;250m    \u001b[39m\u001b[38;5;124;03m\"\"\"\u001b[39;00m\n\u001b[1;32m     22\u001b[0m \u001b[38;5;124;03m    Constructs a new TTS engine instance.\u001b[39;00m\n\u001b[1;32m     23\u001b[0m \n\u001b[0;32m   (...)\u001b[0m\n\u001b[1;32m     28\u001b[0m \u001b[38;5;124;03m    @type debug: bool\u001b[39;00m\n\u001b[1;32m     29\u001b[0m \u001b[38;5;124;03m    \"\"\"\u001b[39;00m\n\u001b[0;32m---> 30\u001b[0m     \u001b[38;5;28mself\u001b[39m\u001b[38;5;241m.\u001b[39mproxy \u001b[38;5;241m=\u001b[39m \u001b[43mdriver\u001b[49m\u001b[38;5;241;43m.\u001b[39;49m\u001b[43mDriverProxy\u001b[49m\u001b[43m(\u001b[49m\u001b[43mweakref\u001b[49m\u001b[38;5;241;43m.\u001b[39;49m\u001b[43mproxy\u001b[49m\u001b[43m(\u001b[49m\u001b[38;5;28;43mself\u001b[39;49m\u001b[43m)\u001b[49m\u001b[43m,\u001b[49m\u001b[43m \u001b[49m\u001b[43mdriverName\u001b[49m\u001b[43m,\u001b[49m\u001b[43m \u001b[49m\u001b[43mdebug\u001b[49m\u001b[43m)\u001b[49m\n\u001b[1;32m     31\u001b[0m     \u001b[38;5;66;03m# initialize other vars\u001b[39;00m\n\u001b[1;32m     32\u001b[0m     \u001b[38;5;28mself\u001b[39m\u001b[38;5;241m.\u001b[39m_connects \u001b[38;5;241m=\u001b[39m {}\n",
      "File \u001b[0;32m~/PycharmProjects/InterviewerAI/venv/lib/python3.9/site-packages/pyttsx3/driver.py:50\u001b[0m, in \u001b[0;36mDriverProxy.__init__\u001b[0;34m(self, engine, driverName, debug)\u001b[0m\n\u001b[1;32m     48\u001b[0m \u001b[38;5;66;03m# import driver module\u001b[39;00m\n\u001b[1;32m     49\u001b[0m name \u001b[38;5;241m=\u001b[39m \u001b[38;5;124m'\u001b[39m\u001b[38;5;124mpyttsx3.drivers.\u001b[39m\u001b[38;5;132;01m%s\u001b[39;00m\u001b[38;5;124m'\u001b[39m \u001b[38;5;241m%\u001b[39m driverName\n\u001b[0;32m---> 50\u001b[0m \u001b[38;5;28mself\u001b[39m\u001b[38;5;241m.\u001b[39m_module \u001b[38;5;241m=\u001b[39m \u001b[43mimportlib\u001b[49m\u001b[38;5;241;43m.\u001b[39;49m\u001b[43mimport_module\u001b[49m\u001b[43m(\u001b[49m\u001b[43mname\u001b[49m\u001b[43m)\u001b[49m\n\u001b[1;32m     51\u001b[0m \u001b[38;5;66;03m# build driver instance\u001b[39;00m\n\u001b[1;32m     52\u001b[0m \u001b[38;5;28mself\u001b[39m\u001b[38;5;241m.\u001b[39m_driver \u001b[38;5;241m=\u001b[39m \u001b[38;5;28mself\u001b[39m\u001b[38;5;241m.\u001b[39m_module\u001b[38;5;241m.\u001b[39mbuildDriver(weakref\u001b[38;5;241m.\u001b[39mproxy(\u001b[38;5;28mself\u001b[39m))\n",
      "File \u001b[0;32m/Applications/Xcode.app/Contents/Developer/Library/Frameworks/Python3.framework/Versions/3.9/lib/python3.9/importlib/__init__.py:127\u001b[0m, in \u001b[0;36mimport_module\u001b[0;34m(name, package)\u001b[0m\n\u001b[1;32m    125\u001b[0m             \u001b[38;5;28;01mbreak\u001b[39;00m\n\u001b[1;32m    126\u001b[0m         level \u001b[38;5;241m+\u001b[39m\u001b[38;5;241m=\u001b[39m \u001b[38;5;241m1\u001b[39m\n\u001b[0;32m--> 127\u001b[0m \u001b[38;5;28;01mreturn\u001b[39;00m \u001b[43m_bootstrap\u001b[49m\u001b[38;5;241;43m.\u001b[39;49m\u001b[43m_gcd_import\u001b[49m\u001b[43m(\u001b[49m\u001b[43mname\u001b[49m\u001b[43m[\u001b[49m\u001b[43mlevel\u001b[49m\u001b[43m:\u001b[49m\u001b[43m]\u001b[49m\u001b[43m,\u001b[49m\u001b[43m \u001b[49m\u001b[43mpackage\u001b[49m\u001b[43m,\u001b[49m\u001b[43m \u001b[49m\u001b[43mlevel\u001b[49m\u001b[43m)\u001b[49m\n",
      "File \u001b[0;32m<frozen importlib._bootstrap>:1030\u001b[0m, in \u001b[0;36m_gcd_import\u001b[0;34m(name, package, level)\u001b[0m\n",
      "File \u001b[0;32m<frozen importlib._bootstrap>:1007\u001b[0m, in \u001b[0;36m_find_and_load\u001b[0;34m(name, import_)\u001b[0m\n",
      "File \u001b[0;32m<frozen importlib._bootstrap>:986\u001b[0m, in \u001b[0;36m_find_and_load_unlocked\u001b[0;34m(name, import_)\u001b[0m\n",
      "File \u001b[0;32m<frozen importlib._bootstrap>:680\u001b[0m, in \u001b[0;36m_load_unlocked\u001b[0;34m(spec)\u001b[0m\n",
      "File \u001b[0;32m<frozen importlib._bootstrap_external>:850\u001b[0m, in \u001b[0;36mexec_module\u001b[0;34m(self, module)\u001b[0m\n",
      "File \u001b[0;32m<frozen importlib._bootstrap>:228\u001b[0m, in \u001b[0;36m_call_with_frames_removed\u001b[0;34m(f, *args, **kwds)\u001b[0m\n",
      "File \u001b[0;32m~/PycharmProjects/InterviewerAI/venv/lib/python3.9/site-packages/pyttsx3/drivers/nsss.py:12\u001b[0m\n\u001b[1;32m      8\u001b[0m \u001b[38;5;28;01mdef\u001b[39;00m \u001b[38;5;21mbuildDriver\u001b[39m(proxy):\n\u001b[1;32m      9\u001b[0m     \u001b[38;5;28;01mreturn\u001b[39;00m NSSpeechDriver\u001b[38;5;241m.\u001b[39malloc()\u001b[38;5;241m.\u001b[39minitWithProxy(proxy)\n\u001b[0;32m---> 12\u001b[0m \u001b[38;5;28;01mclass\u001b[39;00m \u001b[38;5;21;01mNSSpeechDriver\u001b[39;00m(NSObject):\n\u001b[1;32m     13\u001b[0m     \u001b[38;5;129m@objc\u001b[39m\u001b[38;5;241m.\u001b[39mpython_method\n\u001b[1;32m     14\u001b[0m     \u001b[38;5;28;01mdef\u001b[39;00m \u001b[38;5;21minitWithProxy\u001b[39m(\u001b[38;5;28mself\u001b[39m, proxy):\n\u001b[1;32m     15\u001b[0m         \u001b[38;5;28mself\u001b[39m \u001b[38;5;241m=\u001b[39m \u001b[38;5;28msuper\u001b[39m(NSSpeechDriver, \u001b[38;5;28mself\u001b[39m)\u001b[38;5;241m.\u001b[39minit()\n",
      "File \u001b[0;32m~/PycharmProjects/InterviewerAI/venv/lib/python3.9/site-packages/pyttsx3/drivers/nsss.py:13\u001b[0m, in \u001b[0;36mNSSpeechDriver\u001b[0;34m()\u001b[0m\n\u001b[1;32m     12\u001b[0m \u001b[38;5;28;01mclass\u001b[39;00m \u001b[38;5;21;01mNSSpeechDriver\u001b[39;00m(NSObject):\n\u001b[0;32m---> 13\u001b[0m     \u001b[38;5;129m@objc\u001b[39m\u001b[38;5;241m.\u001b[39mpython_method\n\u001b[1;32m     14\u001b[0m     \u001b[38;5;28;01mdef\u001b[39;00m \u001b[38;5;21minitWithProxy\u001b[39m(\u001b[38;5;28mself\u001b[39m, proxy):\n\u001b[1;32m     15\u001b[0m         \u001b[38;5;28mself\u001b[39m \u001b[38;5;241m=\u001b[39m \u001b[38;5;28msuper\u001b[39m(NSSpeechDriver, \u001b[38;5;28mself\u001b[39m)\u001b[38;5;241m.\u001b[39minit()\n\u001b[1;32m     16\u001b[0m         \u001b[38;5;28;01mif\u001b[39;00m \u001b[38;5;28mself\u001b[39m:\n",
      "\u001b[0;31mNameError\u001b[0m: name 'objc' is not defined"
     ]
    }
   ],
   "source": [
    "import pyttsx3\n",
    "\n",
    "def text_to_speech(text, rate=150):\n",
    "    engine = pyttsx3.init()\n",
    "    engine.setProperty('rate', rate)  # Adjust the speech rate (words per minute)\n",
    "    engine.say(text)\n",
    "    engine.runAndWait()\n",
    "\n",
    "# Example usage:\n",
    "text = \"Hello, how are you?\"\n",
    "text_to_speech(text)\n"
   ]
  },
  {
   "cell_type": "code",
   "execution_count": 21,
   "metadata": {},
   "outputs": [
    {
     "name": "stderr",
     "output_type": "stream",
     "text": [
      "/Users/ratanprakash/PycharmProjects/InterviewerAI/venv/lib/python3.9/site-packages/urllib3/__init__.py:35: NotOpenSSLWarning: urllib3 v2 only supports OpenSSL 1.1.1+, currently the 'ssl' module is compiled with 'LibreSSL 2.8.3'. See: https://github.com/urllib3/urllib3/issues/3020\n",
      "  warnings.warn(\n",
      "High Performance MPEG 1.0/2.0/2.5 Audio Player for Layers 1, 2 and 3\n",
      "\tversion 1.32.4; written and copyright by Michael Hipp and others\n",
      "\tfree software (LGPL) without any warranty but with best wishes\n",
      "\n",
      "Playing MPEG stream 1 of 1: output.mp3 ...\n",
      "\n",
      "MPEG 2.0 L III cbr32 24000 mono\n",
      "\n",
      "[0:02] Decoding of output.mp3 finished.\n"
     ]
    }
   ],
   "source": [
    "from gtts import gTTS\n",
    "import os\n",
    "\n",
    "def text_to_speech(text):\n",
    "    tts = gTTS(text=text, lang='en')\n",
    "    tts.save(\"output.mp3\")\n",
    "    os.system(\"mpg123 output.mp3\")\n",
    "    os.remove(\"output.mp3\")\n",
    "\n",
    "text_to_speech(\"Hello, how are you?\")"
   ]
  },
  {
   "cell_type": "code",
   "execution_count": 20,
   "metadata": {},
   "outputs": [
    {
     "name": "stdout",
     "output_type": "stream",
     "text": [
      "Collecting gtts\n",
      "  Downloading gTTS-2.5.1-py3-none-any.whl.metadata (4.1 kB)\n",
      "Requirement already satisfied: requests<3,>=2.27 in ./venv/lib/python3.9/site-packages (from gtts) (2.31.0)\n",
      "Collecting click<8.2,>=7.1 (from gtts)\n",
      "  Using cached click-8.1.7-py3-none-any.whl.metadata (3.0 kB)\n",
      "Requirement already satisfied: charset-normalizer<4,>=2 in ./venv/lib/python3.9/site-packages (from requests<3,>=2.27->gtts) (3.3.2)\n",
      "Requirement already satisfied: idna<4,>=2.5 in ./venv/lib/python3.9/site-packages (from requests<3,>=2.27->gtts) (3.6)\n",
      "Requirement already satisfied: urllib3<3,>=1.21.1 in ./venv/lib/python3.9/site-packages (from requests<3,>=2.27->gtts) (2.2.0)\n",
      "Requirement already satisfied: certifi>=2017.4.17 in ./venv/lib/python3.9/site-packages (from requests<3,>=2.27->gtts) (2024.2.2)\n",
      "Downloading gTTS-2.5.1-py3-none-any.whl (29 kB)\n",
      "Using cached click-8.1.7-py3-none-any.whl (97 kB)\n",
      "Installing collected packages: click, gtts\n",
      "Successfully installed click-8.1.7 gtts-2.5.1\n"
     ]
    }
   ],
   "source": [
    "!pip install gtts"
   ]
  },
  {
   "cell_type": "code",
   "execution_count": 32,
   "metadata": {},
   "outputs": [
    {
     "ename": "error",
     "evalue": "RunLoopStopper is overriding existing Objective-C class",
     "output_type": "error",
     "traceback": [
      "\u001b[0;31m---------------------------------------------------------------------------\u001b[0m",
      "\u001b[0;31mKeyError\u001b[0m                                  Traceback (most recent call last)",
      "File \u001b[0;32m~/PycharmProjects/InterviewerAI/venv/lib/python3.9/site-packages/pyttsx3/__init__.py:20\u001b[0m, in \u001b[0;36minit\u001b[0;34m(driverName, debug)\u001b[0m\n\u001b[1;32m     19\u001b[0m \u001b[38;5;28;01mtry\u001b[39;00m:\n\u001b[0;32m---> 20\u001b[0m     eng \u001b[38;5;241m=\u001b[39m \u001b[43m_activeEngines\u001b[49m\u001b[43m[\u001b[49m\u001b[43mdriverName\u001b[49m\u001b[43m]\u001b[49m\n\u001b[1;32m     21\u001b[0m \u001b[38;5;28;01mexcept\u001b[39;00m \u001b[38;5;167;01mKeyError\u001b[39;00m:\n",
      "File \u001b[0;32m/Applications/Xcode.app/Contents/Developer/Library/Frameworks/Python3.framework/Versions/3.9/lib/python3.9/weakref.py:134\u001b[0m, in \u001b[0;36mWeakValueDictionary.__getitem__\u001b[0;34m(self, key)\u001b[0m\n\u001b[1;32m    133\u001b[0m     \u001b[38;5;28mself\u001b[39m\u001b[38;5;241m.\u001b[39m_commit_removals()\n\u001b[0;32m--> 134\u001b[0m o \u001b[38;5;241m=\u001b[39m \u001b[38;5;28;43mself\u001b[39;49m\u001b[38;5;241;43m.\u001b[39;49m\u001b[43mdata\u001b[49m\u001b[43m[\u001b[49m\u001b[43mkey\u001b[49m\u001b[43m]\u001b[49m()\n\u001b[1;32m    135\u001b[0m \u001b[38;5;28;01mif\u001b[39;00m o \u001b[38;5;129;01mis\u001b[39;00m \u001b[38;5;28;01mNone\u001b[39;00m:\n",
      "\u001b[0;31mKeyError\u001b[0m: 'nsss'",
      "\nDuring handling of the above exception, another exception occurred:\n",
      "\u001b[0;31merror\u001b[0m                                     Traceback (most recent call last)",
      "Cell \u001b[0;32mIn[32], line 2\u001b[0m\n\u001b[1;32m      1\u001b[0m \u001b[38;5;28;01mimport\u001b[39;00m \u001b[38;5;21;01mpyttsx3\u001b[39;00m\n\u001b[0;32m----> 2\u001b[0m engine \u001b[38;5;241m=\u001b[39m \u001b[43mpyttsx3\u001b[49m\u001b[38;5;241;43m.\u001b[39;49m\u001b[43minit\u001b[49m\u001b[43m(\u001b[49m\u001b[38;5;124;43m'\u001b[39;49m\u001b[38;5;124;43mnsss\u001b[39;49m\u001b[38;5;124;43m'\u001b[39;49m\u001b[43m)\u001b[49m\n\u001b[1;32m      3\u001b[0m engine\u001b[38;5;241m.\u001b[39msay(\u001b[38;5;124m\"\u001b[39m\u001b[38;5;124mI will speak this text\u001b[39m\u001b[38;5;124m\"\u001b[39m)\n\u001b[1;32m      4\u001b[0m engine\u001b[38;5;241m.\u001b[39mrunAndWait()\n",
      "File \u001b[0;32m~/PycharmProjects/InterviewerAI/venv/lib/python3.9/site-packages/pyttsx3/__init__.py:22\u001b[0m, in \u001b[0;36minit\u001b[0;34m(driverName, debug)\u001b[0m\n\u001b[1;32m     20\u001b[0m     eng \u001b[38;5;241m=\u001b[39m _activeEngines[driverName]\n\u001b[1;32m     21\u001b[0m \u001b[38;5;28;01mexcept\u001b[39;00m \u001b[38;5;167;01mKeyError\u001b[39;00m:\n\u001b[0;32m---> 22\u001b[0m     eng \u001b[38;5;241m=\u001b[39m \u001b[43mEngine\u001b[49m\u001b[43m(\u001b[49m\u001b[43mdriverName\u001b[49m\u001b[43m,\u001b[49m\u001b[43m \u001b[49m\u001b[43mdebug\u001b[49m\u001b[43m)\u001b[49m\n\u001b[1;32m     23\u001b[0m     _activeEngines[driverName] \u001b[38;5;241m=\u001b[39m eng\n\u001b[1;32m     24\u001b[0m \u001b[38;5;28;01mreturn\u001b[39;00m eng\n",
      "File \u001b[0;32m~/PycharmProjects/InterviewerAI/venv/lib/python3.9/site-packages/pyttsx3/engine.py:30\u001b[0m, in \u001b[0;36mEngine.__init__\u001b[0;34m(self, driverName, debug)\u001b[0m\n\u001b[1;32m     20\u001b[0m \u001b[38;5;28;01mdef\u001b[39;00m \u001b[38;5;21m__init__\u001b[39m(\u001b[38;5;28mself\u001b[39m, driverName\u001b[38;5;241m=\u001b[39m\u001b[38;5;28;01mNone\u001b[39;00m, debug\u001b[38;5;241m=\u001b[39m\u001b[38;5;28;01mFalse\u001b[39;00m):\n\u001b[1;32m     21\u001b[0m \u001b[38;5;250m    \u001b[39m\u001b[38;5;124;03m\"\"\"\u001b[39;00m\n\u001b[1;32m     22\u001b[0m \u001b[38;5;124;03m    Constructs a new TTS engine instance.\u001b[39;00m\n\u001b[1;32m     23\u001b[0m \n\u001b[0;32m   (...)\u001b[0m\n\u001b[1;32m     28\u001b[0m \u001b[38;5;124;03m    @type debug: bool\u001b[39;00m\n\u001b[1;32m     29\u001b[0m \u001b[38;5;124;03m    \"\"\"\u001b[39;00m\n\u001b[0;32m---> 30\u001b[0m     \u001b[38;5;28mself\u001b[39m\u001b[38;5;241m.\u001b[39mproxy \u001b[38;5;241m=\u001b[39m \u001b[43mdriver\u001b[49m\u001b[38;5;241;43m.\u001b[39;49m\u001b[43mDriverProxy\u001b[49m\u001b[43m(\u001b[49m\u001b[43mweakref\u001b[49m\u001b[38;5;241;43m.\u001b[39;49m\u001b[43mproxy\u001b[49m\u001b[43m(\u001b[49m\u001b[38;5;28;43mself\u001b[39;49m\u001b[43m)\u001b[49m\u001b[43m,\u001b[49m\u001b[43m \u001b[49m\u001b[43mdriverName\u001b[49m\u001b[43m,\u001b[49m\u001b[43m \u001b[49m\u001b[43mdebug\u001b[49m\u001b[43m)\u001b[49m\n\u001b[1;32m     31\u001b[0m     \u001b[38;5;66;03m# initialize other vars\u001b[39;00m\n\u001b[1;32m     32\u001b[0m     \u001b[38;5;28mself\u001b[39m\u001b[38;5;241m.\u001b[39m_connects \u001b[38;5;241m=\u001b[39m {}\n",
      "File \u001b[0;32m~/PycharmProjects/InterviewerAI/venv/lib/python3.9/site-packages/pyttsx3/driver.py:50\u001b[0m, in \u001b[0;36mDriverProxy.__init__\u001b[0;34m(self, engine, driverName, debug)\u001b[0m\n\u001b[1;32m     48\u001b[0m \u001b[38;5;66;03m# import driver module\u001b[39;00m\n\u001b[1;32m     49\u001b[0m name \u001b[38;5;241m=\u001b[39m \u001b[38;5;124m'\u001b[39m\u001b[38;5;124mpyttsx3.drivers.\u001b[39m\u001b[38;5;132;01m%s\u001b[39;00m\u001b[38;5;124m'\u001b[39m \u001b[38;5;241m%\u001b[39m driverName\n\u001b[0;32m---> 50\u001b[0m \u001b[38;5;28mself\u001b[39m\u001b[38;5;241m.\u001b[39m_module \u001b[38;5;241m=\u001b[39m \u001b[43mimportlib\u001b[49m\u001b[38;5;241;43m.\u001b[39;49m\u001b[43mimport_module\u001b[49m\u001b[43m(\u001b[49m\u001b[43mname\u001b[49m\u001b[43m)\u001b[49m\n\u001b[1;32m     51\u001b[0m \u001b[38;5;66;03m# build driver instance\u001b[39;00m\n\u001b[1;32m     52\u001b[0m \u001b[38;5;28mself\u001b[39m\u001b[38;5;241m.\u001b[39m_driver \u001b[38;5;241m=\u001b[39m \u001b[38;5;28mself\u001b[39m\u001b[38;5;241m.\u001b[39m_module\u001b[38;5;241m.\u001b[39mbuildDriver(weakref\u001b[38;5;241m.\u001b[39mproxy(\u001b[38;5;28mself\u001b[39m))\n",
      "File \u001b[0;32m/Applications/Xcode.app/Contents/Developer/Library/Frameworks/Python3.framework/Versions/3.9/lib/python3.9/importlib/__init__.py:127\u001b[0m, in \u001b[0;36mimport_module\u001b[0;34m(name, package)\u001b[0m\n\u001b[1;32m    125\u001b[0m             \u001b[38;5;28;01mbreak\u001b[39;00m\n\u001b[1;32m    126\u001b[0m         level \u001b[38;5;241m+\u001b[39m\u001b[38;5;241m=\u001b[39m \u001b[38;5;241m1\u001b[39m\n\u001b[0;32m--> 127\u001b[0m \u001b[38;5;28;01mreturn\u001b[39;00m \u001b[43m_bootstrap\u001b[49m\u001b[38;5;241;43m.\u001b[39;49m\u001b[43m_gcd_import\u001b[49m\u001b[43m(\u001b[49m\u001b[43mname\u001b[49m\u001b[43m[\u001b[49m\u001b[43mlevel\u001b[49m\u001b[43m:\u001b[49m\u001b[43m]\u001b[49m\u001b[43m,\u001b[49m\u001b[43m \u001b[49m\u001b[43mpackage\u001b[49m\u001b[43m,\u001b[49m\u001b[43m \u001b[49m\u001b[43mlevel\u001b[49m\u001b[43m)\u001b[49m\n",
      "File \u001b[0;32m<frozen importlib._bootstrap>:1030\u001b[0m, in \u001b[0;36m_gcd_import\u001b[0;34m(name, package, level)\u001b[0m\n",
      "File \u001b[0;32m<frozen importlib._bootstrap>:1007\u001b[0m, in \u001b[0;36m_find_and_load\u001b[0;34m(name, import_)\u001b[0m\n",
      "File \u001b[0;32m<frozen importlib._bootstrap>:986\u001b[0m, in \u001b[0;36m_find_and_load_unlocked\u001b[0;34m(name, import_)\u001b[0m\n",
      "File \u001b[0;32m<frozen importlib._bootstrap>:680\u001b[0m, in \u001b[0;36m_load_unlocked\u001b[0;34m(spec)\u001b[0m\n",
      "File \u001b[0;32m<frozen importlib._bootstrap_external>:850\u001b[0m, in \u001b[0;36mexec_module\u001b[0;34m(self, module)\u001b[0m\n",
      "File \u001b[0;32m<frozen importlib._bootstrap>:228\u001b[0m, in \u001b[0;36m_call_with_frames_removed\u001b[0;34m(f, *args, **kwds)\u001b[0m\n",
      "File \u001b[0;32m~/PycharmProjects/InterviewerAI/venv/lib/python3.9/site-packages/pyttsx3/drivers/nsss.py:12\u001b[0m\n\u001b[1;32m      8\u001b[0m \u001b[38;5;28;01mfrom\u001b[39;00m \u001b[38;5;21;01m.\u001b[39;00m\u001b[38;5;21;01m.\u001b[39;00m\u001b[38;5;21;01mvoice\u001b[39;00m \u001b[38;5;28;01mimport\u001b[39;00m Voice\n\u001b[1;32m     11\u001b[0m \u001b[38;5;66;03m# noinspection PyUnresolvedReferences\u001b[39;00m\n\u001b[0;32m---> 12\u001b[0m \u001b[38;5;28;01mclass\u001b[39;00m \u001b[38;5;21;01mRunLoopStopper\u001b[39;00m(PyObjCAppHelperRunLoopStopper):\n\u001b[1;32m     13\u001b[0m \u001b[38;5;250m    \u001b[39m\u001b[38;5;124;03m\"\"\"\u001b[39;00m\n\u001b[1;32m     14\u001b[0m \u001b[38;5;124;03m    Overrides PyObjCAppHelperRunLoopStopper to terminate after endLoop.\u001b[39;00m\n\u001b[1;32m     15\u001b[0m \u001b[38;5;124;03m    \"\"\"\u001b[39;00m\n\u001b[1;32m     17\u001b[0m     \u001b[38;5;28;01mdef\u001b[39;00m \u001b[38;5;21m__init__\u001b[39m(\u001b[38;5;28mself\u001b[39m):\n",
      "\u001b[0;31merror\u001b[0m: RunLoopStopper is overriding existing Objective-C class"
     ]
    }
   ],
   "source": [
    "import pyttsx3\n",
    "engine = pyttsx3.init('nsss')\n",
    "engine.say(\"I will speak this text\")\n",
    "engine.runAndWait()"
   ]
  },
  {
   "cell_type": "code",
   "execution_count": 29,
   "metadata": {},
   "outputs": [
    {
     "name": "stdout",
     "output_type": "stream",
     "text": [
      "Requirement already satisfied: wheel in ./venv/lib/python3.9/site-packages (0.42.0)\n",
      "Requirement already satisfied: py3-tts in ./venv/lib/python3.9/site-packages (3.5)\n",
      "Requirement already satisfied: six in ./venv/lib/python3.9/site-packages (from py3-tts) (1.16.0)\n",
      "Requirement already satisfied: pyobjc==9.0.1 in ./venv/lib/python3.9/site-packages (from py3-tts) (9.0.1)\n",
      "Requirement already satisfied: pyobjc-core==9.0.1 in ./venv/lib/python3.9/site-packages (from pyobjc==9.0.1->py3-tts) (9.0.1)\n",
      "Requirement already satisfied: pyobjc-framework-AddressBook==9.0.1 in ./venv/lib/python3.9/site-packages (from pyobjc==9.0.1->py3-tts) (9.0.1)\n",
      "Requirement already satisfied: pyobjc-framework-AppleScriptKit==9.0.1 in ./venv/lib/python3.9/site-packages (from pyobjc==9.0.1->py3-tts) (9.0.1)\n",
      "Requirement already satisfied: pyobjc-framework-ApplicationServices==9.0.1 in ./venv/lib/python3.9/site-packages (from pyobjc==9.0.1->py3-tts) (9.0.1)\n",
      "Requirement already satisfied: pyobjc-framework-Automator==9.0.1 in ./venv/lib/python3.9/site-packages (from pyobjc==9.0.1->py3-tts) (9.0.1)\n",
      "Requirement already satisfied: pyobjc-framework-CFNetwork==9.0.1 in ./venv/lib/python3.9/site-packages (from pyobjc==9.0.1->py3-tts) (9.0.1)\n",
      "Requirement already satisfied: pyobjc-framework-Cocoa==9.0.1 in ./venv/lib/python3.9/site-packages (from pyobjc==9.0.1->py3-tts) (9.0.1)\n",
      "Requirement already satisfied: pyobjc-framework-CoreAudio==9.0.1 in ./venv/lib/python3.9/site-packages (from pyobjc==9.0.1->py3-tts) (9.0.1)\n",
      "Requirement already satisfied: pyobjc-framework-CoreAudioKit==9.0.1 in ./venv/lib/python3.9/site-packages (from pyobjc==9.0.1->py3-tts) (9.0.1)\n",
      "Requirement already satisfied: pyobjc-framework-CoreData==9.0.1 in ./venv/lib/python3.9/site-packages (from pyobjc==9.0.1->py3-tts) (9.0.1)\n",
      "Requirement already satisfied: pyobjc-framework-CoreMIDI==9.0.1 in ./venv/lib/python3.9/site-packages (from pyobjc==9.0.1->py3-tts) (9.0.1)\n",
      "Requirement already satisfied: pyobjc-framework-CoreServices==9.0.1 in ./venv/lib/python3.9/site-packages (from pyobjc==9.0.1->py3-tts) (9.0.1)\n",
      "Requirement already satisfied: pyobjc-framework-CoreText==9.0.1 in ./venv/lib/python3.9/site-packages (from pyobjc==9.0.1->py3-tts) (9.0.1)\n",
      "Requirement already satisfied: pyobjc-framework-DiscRecording==9.0.1 in ./venv/lib/python3.9/site-packages (from pyobjc==9.0.1->py3-tts) (9.0.1)\n",
      "Requirement already satisfied: pyobjc-framework-DiscRecordingUI==9.0.1 in ./venv/lib/python3.9/site-packages (from pyobjc==9.0.1->py3-tts) (9.0.1)\n",
      "Requirement already satisfied: pyobjc-framework-DiskArbitration==9.0.1 in ./venv/lib/python3.9/site-packages (from pyobjc==9.0.1->py3-tts) (9.0.1)\n",
      "Requirement already satisfied: pyobjc-framework-DVDPlayback==9.0.1 in ./venv/lib/python3.9/site-packages (from pyobjc==9.0.1->py3-tts) (9.0.1)\n",
      "Requirement already satisfied: pyobjc-framework-ExceptionHandling==9.0.1 in ./venv/lib/python3.9/site-packages (from pyobjc==9.0.1->py3-tts) (9.0.1)\n",
      "Requirement already satisfied: pyobjc-framework-InstallerPlugins==9.0.1 in ./venv/lib/python3.9/site-packages (from pyobjc==9.0.1->py3-tts) (9.0.1)\n",
      "Requirement already satisfied: pyobjc-framework-LatentSemanticMapping==9.0.1 in ./venv/lib/python3.9/site-packages (from pyobjc==9.0.1->py3-tts) (9.0.1)\n",
      "Requirement already satisfied: pyobjc-framework-LaunchServices==9.0.1 in ./venv/lib/python3.9/site-packages (from pyobjc==9.0.1->py3-tts) (9.0.1)\n",
      "Requirement already satisfied: pyobjc-framework-OSAKit==9.0.1 in ./venv/lib/python3.9/site-packages (from pyobjc==9.0.1->py3-tts) (9.0.1)\n",
      "Requirement already satisfied: pyobjc-framework-PreferencePanes==9.0.1 in ./venv/lib/python3.9/site-packages (from pyobjc==9.0.1->py3-tts) (9.0.1)\n",
      "Requirement already satisfied: pyobjc-framework-Quartz==9.0.1 in ./venv/lib/python3.9/site-packages (from pyobjc==9.0.1->py3-tts) (9.0.1)\n",
      "Requirement already satisfied: pyobjc-framework-ScreenSaver==9.0.1 in ./venv/lib/python3.9/site-packages (from pyobjc==9.0.1->py3-tts) (9.0.1)\n",
      "Requirement already satisfied: pyobjc-framework-Security==9.0.1 in ./venv/lib/python3.9/site-packages (from pyobjc==9.0.1->py3-tts) (9.0.1)\n",
      "Requirement already satisfied: pyobjc-framework-SecurityFoundation==9.0.1 in ./venv/lib/python3.9/site-packages (from pyobjc==9.0.1->py3-tts) (9.0.1)\n",
      "Requirement already satisfied: pyobjc-framework-SecurityInterface==9.0.1 in ./venv/lib/python3.9/site-packages (from pyobjc==9.0.1->py3-tts) (9.0.1)\n",
      "Requirement already satisfied: pyobjc-framework-SearchKit==9.0.1 in ./venv/lib/python3.9/site-packages (from pyobjc==9.0.1->py3-tts) (9.0.1)\n",
      "Requirement already satisfied: pyobjc-framework-SyncServices==9.0.1 in ./venv/lib/python3.9/site-packages (from pyobjc==9.0.1->py3-tts) (9.0.1)\n",
      "Requirement already satisfied: pyobjc-framework-SystemConfiguration==9.0.1 in ./venv/lib/python3.9/site-packages (from pyobjc==9.0.1->py3-tts) (9.0.1)\n",
      "Requirement already satisfied: pyobjc-framework-WebKit==9.0.1 in ./venv/lib/python3.9/site-packages (from pyobjc==9.0.1->py3-tts) (9.0.1)\n",
      "Requirement already satisfied: pyobjc-framework-AppleScriptObjC==9.0.1 in ./venv/lib/python3.9/site-packages (from pyobjc==9.0.1->py3-tts) (9.0.1)\n",
      "Requirement already satisfied: pyobjc-framework-CoreLocation==9.0.1 in ./venv/lib/python3.9/site-packages (from pyobjc==9.0.1->py3-tts) (9.0.1)\n",
      "Requirement already satisfied: pyobjc-framework-CoreWLAN==9.0.1 in ./venv/lib/python3.9/site-packages (from pyobjc==9.0.1->py3-tts) (9.0.1)\n",
      "Requirement already satisfied: pyobjc-framework-ImageCaptureCore==9.0.1 in ./venv/lib/python3.9/site-packages (from pyobjc==9.0.1->py3-tts) (9.0.1)\n",
      "Requirement already satisfied: pyobjc-framework-IOSurface==9.0.1 in ./venv/lib/python3.9/site-packages (from pyobjc==9.0.1->py3-tts) (9.0.1)\n",
      "Requirement already satisfied: pyobjc-framework-NetFS==9.0.1 in ./venv/lib/python3.9/site-packages (from pyobjc==9.0.1->py3-tts) (9.0.1)\n",
      "Requirement already satisfied: pyobjc-framework-OpenDirectory==9.0.1 in ./venv/lib/python3.9/site-packages (from pyobjc==9.0.1->py3-tts) (9.0.1)\n",
      "Requirement already satisfied: pyobjc-framework-ServiceManagement==9.0.1 in ./venv/lib/python3.9/site-packages (from pyobjc==9.0.1->py3-tts) (9.0.1)\n",
      "Requirement already satisfied: pyobjc-framework-iTunesLibrary==9.0.1 in ./venv/lib/python3.9/site-packages (from pyobjc==9.0.1->py3-tts) (9.0.1)\n",
      "Requirement already satisfied: pyobjc-framework-AVFoundation==9.0.1 in ./venv/lib/python3.9/site-packages (from pyobjc==9.0.1->py3-tts) (9.0.1)\n",
      "Requirement already satisfied: pyobjc-framework-CoreMedia==9.0.1 in ./venv/lib/python3.9/site-packages (from pyobjc==9.0.1->py3-tts) (9.0.1)\n",
      "Requirement already satisfied: pyobjc-framework-CoreMediaIO==9.0.1 in ./venv/lib/python3.9/site-packages (from pyobjc==9.0.1->py3-tts) (9.0.1)\n",
      "Requirement already satisfied: pyobjc-framework-IMServicePlugIn==9.0.1 in ./venv/lib/python3.9/site-packages (from pyobjc==9.0.1->py3-tts) (9.0.1)\n",
      "Requirement already satisfied: pyobjc-framework-StoreKit==9.0.1 in ./venv/lib/python3.9/site-packages (from pyobjc==9.0.1->py3-tts) (9.0.1)\n",
      "Requirement already satisfied: pyobjc-framework-SceneKit==9.0.1 in ./venv/lib/python3.9/site-packages (from pyobjc==9.0.1->py3-tts) (9.0.1)\n",
      "Requirement already satisfied: pyobjc-framework-libdispatch==9.0.1 in ./venv/lib/python3.9/site-packages (from pyobjc==9.0.1->py3-tts) (9.0.1)\n",
      "Requirement already satisfied: pyobjc-framework-AudioVideoBridging==9.0.1 in ./venv/lib/python3.9/site-packages (from pyobjc==9.0.1->py3-tts) (9.0.1)\n",
      "Requirement already satisfied: pyobjc-framework-Accounts==9.0.1 in ./venv/lib/python3.9/site-packages (from pyobjc==9.0.1->py3-tts) (9.0.1)\n",
      "Requirement already satisfied: pyobjc-framework-EventKit==9.0.1 in ./venv/lib/python3.9/site-packages (from pyobjc==9.0.1->py3-tts) (9.0.1)\n",
      "Requirement already satisfied: pyobjc-framework-GameCenter==9.0.1 in ./venv/lib/python3.9/site-packages (from pyobjc==9.0.1->py3-tts) (9.0.1)\n",
      "Requirement already satisfied: pyobjc-framework-Social==9.0.1 in ./venv/lib/python3.9/site-packages (from pyobjc==9.0.1->py3-tts) (9.0.1)\n",
      "Requirement already satisfied: pyobjc-framework-GameKit==9.0.1 in ./venv/lib/python3.9/site-packages (from pyobjc==9.0.1->py3-tts) (9.0.1)\n",
      "Requirement already satisfied: pyobjc-framework-VideoToolbox==9.0.1 in ./venv/lib/python3.9/site-packages (from pyobjc==9.0.1->py3-tts) (9.0.1)\n",
      "Requirement already satisfied: pyobjc-framework-AVKit==9.0.1 in ./venv/lib/python3.9/site-packages (from pyobjc==9.0.1->py3-tts) (9.0.1)\n",
      "Requirement already satisfied: pyobjc-framework-GameController==9.0.1 in ./venv/lib/python3.9/site-packages (from pyobjc==9.0.1->py3-tts) (9.0.1)\n",
      "Requirement already satisfied: pyobjc-framework-MapKit==9.0.1 in ./venv/lib/python3.9/site-packages (from pyobjc==9.0.1->py3-tts) (9.0.1)\n",
      "Requirement already satisfied: pyobjc-framework-MediaAccessibility==9.0.1 in ./venv/lib/python3.9/site-packages (from pyobjc==9.0.1->py3-tts) (9.0.1)\n",
      "Requirement already satisfied: pyobjc-framework-MediaLibrary==9.0.1 in ./venv/lib/python3.9/site-packages (from pyobjc==9.0.1->py3-tts) (9.0.1)\n",
      "Requirement already satisfied: pyobjc-framework-MediaToolbox==9.0.1 in ./venv/lib/python3.9/site-packages (from pyobjc==9.0.1->py3-tts) (9.0.1)\n",
      "Requirement already satisfied: pyobjc-framework-SpriteKit==9.0.1 in ./venv/lib/python3.9/site-packages (from pyobjc==9.0.1->py3-tts) (9.0.1)\n",
      "Requirement already satisfied: pyobjc-framework-CloudKit==9.0.1 in ./venv/lib/python3.9/site-packages (from pyobjc==9.0.1->py3-tts) (9.0.1)\n",
      "Requirement already satisfied: pyobjc-framework-CoreBluetooth==9.0.1 in ./venv/lib/python3.9/site-packages (from pyobjc==9.0.1->py3-tts) (9.0.1)\n",
      "Requirement already satisfied: pyobjc-framework-CryptoTokenKit==9.0.1 in ./venv/lib/python3.9/site-packages (from pyobjc==9.0.1->py3-tts) (9.0.1)\n",
      "Requirement already satisfied: pyobjc-framework-FinderSync==9.0.1 in ./venv/lib/python3.9/site-packages (from pyobjc==9.0.1->py3-tts) (9.0.1)\n",
      "Requirement already satisfied: pyobjc-framework-LocalAuthentication==9.0.1 in ./venv/lib/python3.9/site-packages (from pyobjc==9.0.1->py3-tts) (9.0.1)\n",
      "Requirement already satisfied: pyobjc-framework-MultipeerConnectivity==9.0.1 in ./venv/lib/python3.9/site-packages (from pyobjc==9.0.1->py3-tts) (9.0.1)\n",
      "Requirement already satisfied: pyobjc-framework-NotificationCenter==9.0.1 in ./venv/lib/python3.9/site-packages (from pyobjc==9.0.1->py3-tts) (9.0.1)\n",
      "Requirement already satisfied: pyobjc-framework-Contacts==9.0.1 in ./venv/lib/python3.9/site-packages (from pyobjc==9.0.1->py3-tts) (9.0.1)\n",
      "Requirement already satisfied: pyobjc-framework-ContactsUI==9.0.1 in ./venv/lib/python3.9/site-packages (from pyobjc==9.0.1->py3-tts) (9.0.1)\n",
      "Requirement already satisfied: pyobjc-framework-Metal==9.0.1 in ./venv/lib/python3.9/site-packages (from pyobjc==9.0.1->py3-tts) (9.0.1)\n",
      "Requirement already satisfied: pyobjc-framework-MetalKit==9.0.1 in ./venv/lib/python3.9/site-packages (from pyobjc==9.0.1->py3-tts) (9.0.1)\n",
      "Requirement already satisfied: pyobjc-framework-ModelIO==9.0.1 in ./venv/lib/python3.9/site-packages (from pyobjc==9.0.1->py3-tts) (9.0.1)\n",
      "Requirement already satisfied: pyobjc-framework-NetworkExtension==9.0.1 in ./venv/lib/python3.9/site-packages (from pyobjc==9.0.1->py3-tts) (9.0.1)\n",
      "Requirement already satisfied: pyobjc-framework-Photos==9.0.1 in ./venv/lib/python3.9/site-packages (from pyobjc==9.0.1->py3-tts) (9.0.1)\n",
      "Requirement already satisfied: pyobjc-framework-PhotosUI==9.0.1 in ./venv/lib/python3.9/site-packages (from pyobjc==9.0.1->py3-tts) (9.0.1)\n",
      "Requirement already satisfied: pyobjc-framework-SafariServices==9.0.1 in ./venv/lib/python3.9/site-packages (from pyobjc==9.0.1->py3-tts) (9.0.1)\n",
      "Requirement already satisfied: pyobjc-framework-GameplayKit==9.0.1 in ./venv/lib/python3.9/site-packages (from pyobjc==9.0.1->py3-tts) (9.0.1)\n",
      "Requirement already satisfied: pyobjc-framework-Intents==9.0.1 in ./venv/lib/python3.9/site-packages (from pyobjc==9.0.1->py3-tts) (9.0.1)\n",
      "Requirement already satisfied: pyobjc-framework-MediaPlayer==9.0.1 in ./venv/lib/python3.9/site-packages (from pyobjc==9.0.1->py3-tts) (9.0.1)\n",
      "Requirement already satisfied: pyobjc-framework-ColorSync==9.0.1 in ./venv/lib/python3.9/site-packages (from pyobjc==9.0.1->py3-tts) (9.0.1)\n",
      "Requirement already satisfied: pyobjc-framework-CoreML==9.0.1 in ./venv/lib/python3.9/site-packages (from pyobjc==9.0.1->py3-tts) (9.0.1)\n",
      "Requirement already satisfied: pyobjc-framework-CoreSpotlight==9.0.1 in ./venv/lib/python3.9/site-packages (from pyobjc==9.0.1->py3-tts) (9.0.1)\n",
      "Requirement already satisfied: pyobjc-framework-ExternalAccessory==9.0.1 in ./venv/lib/python3.9/site-packages (from pyobjc==9.0.1->py3-tts) (9.0.1)\n",
      "Requirement already satisfied: pyobjc-framework-MetalPerformanceShaders==9.0.1 in ./venv/lib/python3.9/site-packages (from pyobjc==9.0.1->py3-tts) (9.0.1)\n",
      "Requirement already satisfied: pyobjc-framework-Vision==9.0.1 in ./venv/lib/python3.9/site-packages (from pyobjc==9.0.1->py3-tts) (9.0.1)\n",
      "Requirement already satisfied: pyobjc-framework-AdSupport==9.0.1 in ./venv/lib/python3.9/site-packages (from pyobjc==9.0.1->py3-tts) (9.0.1)\n",
      "Requirement already satisfied: pyobjc-framework-BusinessChat==9.0.1 in ./venv/lib/python3.9/site-packages (from pyobjc==9.0.1->py3-tts) (9.0.1)\n",
      "Requirement already satisfied: pyobjc-framework-NaturalLanguage==9.0.1 in ./venv/lib/python3.9/site-packages (from pyobjc==9.0.1->py3-tts) (9.0.1)\n",
      "Requirement already satisfied: pyobjc-framework-Network==9.0.1 in ./venv/lib/python3.9/site-packages (from pyobjc==9.0.1->py3-tts) (9.0.1)\n",
      "Requirement already satisfied: pyobjc-framework-UserNotifications==9.0.1 in ./venv/lib/python3.9/site-packages (from pyobjc==9.0.1->py3-tts) (9.0.1)\n",
      "Requirement already satisfied: pyobjc-framework-VideoSubscriberAccount==9.0.1 in ./venv/lib/python3.9/site-packages (from pyobjc==9.0.1->py3-tts) (9.0.1)\n",
      "Requirement already satisfied: pyobjc-framework-AuthenticationServices==9.0.1 in ./venv/lib/python3.9/site-packages (from pyobjc==9.0.1->py3-tts) (9.0.1)\n",
      "Requirement already satisfied: pyobjc-framework-AutomaticAssessmentConfiguration==9.0.1 in ./venv/lib/python3.9/site-packages (from pyobjc==9.0.1->py3-tts) (9.0.1)\n",
      "Requirement already satisfied: pyobjc-framework-CoreHaptics==9.0.1 in ./venv/lib/python3.9/site-packages (from pyobjc==9.0.1->py3-tts) (9.0.1)\n",
      "Requirement already satisfied: pyobjc-framework-CoreMotion==9.0.1 in ./venv/lib/python3.9/site-packages (from pyobjc==9.0.1->py3-tts) (9.0.1)\n",
      "Requirement already satisfied: pyobjc-framework-DeviceCheck==9.0.1 in ./venv/lib/python3.9/site-packages (from pyobjc==9.0.1->py3-tts) (9.0.1)\n",
      "Requirement already satisfied: pyobjc-framework-ExecutionPolicy==9.0.1 in ./venv/lib/python3.9/site-packages (from pyobjc==9.0.1->py3-tts) (9.0.1)\n",
      "Requirement already satisfied: pyobjc-framework-FileProvider==9.0.1 in ./venv/lib/python3.9/site-packages (from pyobjc==9.0.1->py3-tts) (9.0.1)\n",
      "Requirement already satisfied: pyobjc-framework-FileProviderUI==9.0.1 in ./venv/lib/python3.9/site-packages (from pyobjc==9.0.1->py3-tts) (9.0.1)\n",
      "Requirement already satisfied: pyobjc-framework-LinkPresentation==9.0.1 in ./venv/lib/python3.9/site-packages (from pyobjc==9.0.1->py3-tts) (9.0.1)\n",
      "Requirement already satisfied: pyobjc-framework-OSLog==9.0.1 in ./venv/lib/python3.9/site-packages (from pyobjc==9.0.1->py3-tts) (9.0.1)\n",
      "Requirement already satisfied: pyobjc-framework-PencilKit==9.0.1 in ./venv/lib/python3.9/site-packages (from pyobjc==9.0.1->py3-tts) (9.0.1)\n",
      "Requirement already satisfied: pyobjc-framework-PushKit==9.0.1 in ./venv/lib/python3.9/site-packages (from pyobjc==9.0.1->py3-tts) (9.0.1)\n",
      "Requirement already satisfied: pyobjc-framework-QuickLookThumbnailing==9.0.1 in ./venv/lib/python3.9/site-packages (from pyobjc==9.0.1->py3-tts) (9.0.1)\n",
      "Requirement already satisfied: pyobjc-framework-Speech==9.0.1 in ./venv/lib/python3.9/site-packages (from pyobjc==9.0.1->py3-tts) (9.0.1)\n",
      "Requirement already satisfied: pyobjc-framework-SoundAnalysis==9.0.1 in ./venv/lib/python3.9/site-packages (from pyobjc==9.0.1->py3-tts) (9.0.1)\n",
      "Requirement already satisfied: pyobjc-framework-SystemExtensions==9.0.1 in ./venv/lib/python3.9/site-packages (from pyobjc==9.0.1->py3-tts) (9.0.1)\n",
      "Requirement already satisfied: pyobjc-framework-Accessibility==9.0.1 in ./venv/lib/python3.9/site-packages (from pyobjc==9.0.1->py3-tts) (9.0.1)\n",
      "Requirement already satisfied: pyobjc-framework-AdServices==9.0.1 in ./venv/lib/python3.9/site-packages (from pyobjc==9.0.1->py3-tts) (9.0.1)\n",
      "Requirement already satisfied: pyobjc-framework-AppTrackingTransparency==9.0.1 in ./venv/lib/python3.9/site-packages (from pyobjc==9.0.1->py3-tts) (9.0.1)\n",
      "Requirement already satisfied: pyobjc-framework-CallKit==9.0.1 in ./venv/lib/python3.9/site-packages (from pyobjc==9.0.1->py3-tts) (9.0.1)\n",
      "Requirement already satisfied: pyobjc-framework-ClassKit==9.0.1 in ./venv/lib/python3.9/site-packages (from pyobjc==9.0.1->py3-tts) (9.0.1)\n",
      "Requirement already satisfied: pyobjc-framework-KernelManagement==9.0.1 in ./venv/lib/python3.9/site-packages (from pyobjc==9.0.1->py3-tts) (9.0.1)\n",
      "Requirement already satisfied: pyobjc-framework-MetalPerformanceShadersGraph==9.0.1 in ./venv/lib/python3.9/site-packages (from pyobjc==9.0.1->py3-tts) (9.0.1)\n",
      "Requirement already satisfied: pyobjc-framework-MLCompute==9.0.1 in ./venv/lib/python3.9/site-packages (from pyobjc==9.0.1->py3-tts) (9.0.1)\n",
      "Requirement already satisfied: pyobjc-framework-PassKit==9.0.1 in ./venv/lib/python3.9/site-packages (from pyobjc==9.0.1->py3-tts) (9.0.1)\n",
      "Requirement already satisfied: pyobjc-framework-ReplayKit==9.0.1 in ./venv/lib/python3.9/site-packages (from pyobjc==9.0.1->py3-tts) (9.0.1)\n",
      "Requirement already satisfied: pyobjc-framework-ScreenTime==9.0.1 in ./venv/lib/python3.9/site-packages (from pyobjc==9.0.1->py3-tts) (9.0.1)\n",
      "Requirement already satisfied: pyobjc-framework-UniformTypeIdentifiers==9.0.1 in ./venv/lib/python3.9/site-packages (from pyobjc==9.0.1->py3-tts) (9.0.1)\n",
      "Requirement already satisfied: pyobjc-framework-UserNotificationsUI==9.0.1 in ./venv/lib/python3.9/site-packages (from pyobjc==9.0.1->py3-tts) (9.0.1)\n",
      "Requirement already satisfied: pyobjc-framework-Virtualization==9.0.1 in ./venv/lib/python3.9/site-packages (from pyobjc==9.0.1->py3-tts) (9.0.1)\n",
      "Requirement already satisfied: pyobjc-framework-DataDetection==9.0.1 in ./venv/lib/python3.9/site-packages (from pyobjc==9.0.1->py3-tts) (9.0.1)\n",
      "Requirement already satisfied: pyobjc-framework-IntentsUI==9.0.1 in ./venv/lib/python3.9/site-packages (from pyobjc==9.0.1->py3-tts) (9.0.1)\n",
      "Requirement already satisfied: pyobjc-framework-LocalAuthenticationEmbeddedUI==9.0.1 in ./venv/lib/python3.9/site-packages (from pyobjc==9.0.1->py3-tts) (9.0.1)\n",
      "Requirement already satisfied: pyobjc-framework-MailKit==9.0.1 in ./venv/lib/python3.9/site-packages (from pyobjc==9.0.1->py3-tts) (9.0.1)\n",
      "Requirement already satisfied: pyobjc-framework-MetricKit==9.0.1 in ./venv/lib/python3.9/site-packages (from pyobjc==9.0.1->py3-tts) (9.0.1)\n",
      "Requirement already satisfied: pyobjc-framework-ShazamKit==9.0.1 in ./venv/lib/python3.9/site-packages (from pyobjc==9.0.1->py3-tts) (9.0.1)\n",
      "Requirement already satisfied: pyobjc-framework-ScreenCaptureKit==9.0.1 in ./venv/lib/python3.9/site-packages (from pyobjc==9.0.1->py3-tts) (9.0.1)\n",
      "Requirement already satisfied: pyobjc-framework-AVRouting==9.0.1 in ./venv/lib/python3.9/site-packages (from pyobjc==9.0.1->py3-tts) (9.0.1)\n",
      "Requirement already satisfied: pyobjc-framework-BackgroundAssets==9.0.1 in ./venv/lib/python3.9/site-packages (from pyobjc==9.0.1->py3-tts) (9.0.1)\n",
      "Requirement already satisfied: pyobjc-framework-ExtensionKit==9.0.1 in ./venv/lib/python3.9/site-packages (from pyobjc==9.0.1->py3-tts) (9.0.1)\n",
      "Requirement already satisfied: pyobjc-framework-HealthKit==9.0.1 in ./venv/lib/python3.9/site-packages (from pyobjc==9.0.1->py3-tts) (9.0.1)\n",
      "Requirement already satisfied: pyobjc-framework-MetalFX==9.0.1 in ./venv/lib/python3.9/site-packages (from pyobjc==9.0.1->py3-tts) (9.0.1)\n",
      "Requirement already satisfied: pyobjc-framework-SafetyKit==9.0.1 in ./venv/lib/python3.9/site-packages (from pyobjc==9.0.1->py3-tts) (9.0.1)\n",
      "Requirement already satisfied: pyobjc-framework-SharedWithYouCore==9.0.1 in ./venv/lib/python3.9/site-packages (from pyobjc==9.0.1->py3-tts) (9.0.1)\n",
      "Requirement already satisfied: pyobjc-framework-SharedWithYou==9.0.1 in ./venv/lib/python3.9/site-packages (from pyobjc==9.0.1->py3-tts) (9.0.1)\n",
      "Requirement already satisfied: pyobjc-framework-ThreadNetwork==9.0.1 in ./venv/lib/python3.9/site-packages (from pyobjc==9.0.1->py3-tts) (9.0.1)\n",
      "Requirement already satisfied: pyobjc-framework-CalendarStore==9.0.1 in ./venv/lib/python3.9/site-packages (from pyobjc==9.0.1->py3-tts) (9.0.1)\n",
      "Requirement already satisfied: pyobjc-framework-Collaboration==9.0.1 in ./venv/lib/python3.9/site-packages (from pyobjc==9.0.1->py3-tts) (9.0.1)\n",
      "Requirement already satisfied: pyobjc-framework-DictionaryServices==9.0.1 in ./venv/lib/python3.9/site-packages (from pyobjc==9.0.1->py3-tts) (9.0.1)\n",
      "Requirement already satisfied: pyobjc-framework-FSEvents==9.0.1 in ./venv/lib/python3.9/site-packages (from pyobjc==9.0.1->py3-tts) (9.0.1)\n",
      "Requirement already satisfied: pyobjc-framework-InputMethodKit==9.0.1 in ./venv/lib/python3.9/site-packages (from pyobjc==9.0.1->py3-tts) (9.0.1)\n",
      "Requirement already satisfied: pyobjc-framework-InstantMessage==9.0.1 in ./venv/lib/python3.9/site-packages (from pyobjc==9.0.1->py3-tts) (9.0.1)\n",
      "Requirement already satisfied: pyobjc-framework-ScriptingBridge==9.0.1 in ./venv/lib/python3.9/site-packages (from pyobjc==9.0.1->py3-tts) (9.0.1)\n"
     ]
    }
   ],
   "source": [
    "!pip install --upgrade wheel\n",
    "!pip install py3-tts --upgrade\n"
   ]
  },
  {
   "cell_type": "code",
   "execution_count": 30,
   "metadata": {},
   "outputs": [
    {
     "ename": "error",
     "evalue": "RunLoopStopper is overriding existing Objective-C class",
     "output_type": "error",
     "traceback": [
      "\u001b[0;31m---------------------------------------------------------------------------\u001b[0m",
      "\u001b[0;31mKeyError\u001b[0m                                  Traceback (most recent call last)",
      "File \u001b[0;32m~/PycharmProjects/InterviewerAI/venv/lib/python3.9/site-packages/pyttsx3/__init__.py:20\u001b[0m, in \u001b[0;36minit\u001b[0;34m(driverName, debug)\u001b[0m\n\u001b[1;32m     19\u001b[0m \u001b[38;5;28;01mtry\u001b[39;00m:\n\u001b[0;32m---> 20\u001b[0m     eng \u001b[38;5;241m=\u001b[39m \u001b[43m_activeEngines\u001b[49m\u001b[43m[\u001b[49m\u001b[43mdriverName\u001b[49m\u001b[43m]\u001b[49m\n\u001b[1;32m     21\u001b[0m \u001b[38;5;28;01mexcept\u001b[39;00m \u001b[38;5;167;01mKeyError\u001b[39;00m:\n",
      "File \u001b[0;32m/Applications/Xcode.app/Contents/Developer/Library/Frameworks/Python3.framework/Versions/3.9/lib/python3.9/weakref.py:134\u001b[0m, in \u001b[0;36mWeakValueDictionary.__getitem__\u001b[0;34m(self, key)\u001b[0m\n\u001b[1;32m    133\u001b[0m     \u001b[38;5;28mself\u001b[39m\u001b[38;5;241m.\u001b[39m_commit_removals()\n\u001b[0;32m--> 134\u001b[0m o \u001b[38;5;241m=\u001b[39m \u001b[38;5;28;43mself\u001b[39;49m\u001b[38;5;241;43m.\u001b[39;49m\u001b[43mdata\u001b[49m\u001b[43m[\u001b[49m\u001b[43mkey\u001b[49m\u001b[43m]\u001b[49m()\n\u001b[1;32m    135\u001b[0m \u001b[38;5;28;01mif\u001b[39;00m o \u001b[38;5;129;01mis\u001b[39;00m \u001b[38;5;28;01mNone\u001b[39;00m:\n",
      "\u001b[0;31mKeyError\u001b[0m: None",
      "\nDuring handling of the above exception, another exception occurred:\n",
      "\u001b[0;31merror\u001b[0m                                     Traceback (most recent call last)",
      "Cell \u001b[0;32mIn[30], line 3\u001b[0m\n\u001b[1;32m      1\u001b[0m \u001b[38;5;28;01mimport\u001b[39;00m \u001b[38;5;21;01mpyttsx3\u001b[39;00m\n\u001b[0;32m----> 3\u001b[0m \u001b[43mpyttsx3\u001b[49m\u001b[38;5;241;43m.\u001b[39;49m\u001b[43mspeak\u001b[49m\u001b[43m(\u001b[49m\u001b[38;5;124;43m\"\u001b[39;49m\u001b[38;5;124;43mI will speak this text\u001b[39;49m\u001b[38;5;124;43m\"\u001b[39;49m\u001b[43m)\u001b[49m\n",
      "File \u001b[0;32m~/PycharmProjects/InterviewerAI/venv/lib/python3.9/site-packages/pyttsx3/__init__.py:28\u001b[0m, in \u001b[0;36mspeak\u001b[0;34m(text)\u001b[0m\n\u001b[1;32m     26\u001b[0m \u001b[38;5;28;01mtry\u001b[39;00m:\n\u001b[1;32m     27\u001b[0m     eng \u001b[38;5;241m=\u001b[39m Engine(driverName\u001b[38;5;241m=\u001b[39mdriverName, debug\u001b[38;5;241m=\u001b[39mdebug)\n\u001b[0;32m---> 28\u001b[0m \u001b[38;5;28;01mexcept\u001b[39;00m \u001b[38;5;167;01mModuleNotFoundError\u001b[39;00m:\n\u001b[1;32m     29\u001b[0m     \u001b[38;5;28;01mraise\u001b[39;00m \u001b[38;5;167;01mValueError\u001b[39;00m(\u001b[38;5;124m\"\u001b[39m\u001b[38;5;130;01m\\n\u001b[39;00m\u001b[38;5;130;01m\\n\u001b[39;00m\u001b[38;5;124mDriver \u001b[39m\u001b[38;5;124m'\u001b[39m\u001b[38;5;132;01m%s\u001b[39;00m\u001b[38;5;124m'\u001b[39m\u001b[38;5;124m is unavailable\u001b[39m\u001b[38;5;124m\"\u001b[39m \u001b[38;5;241m%\u001b[39m driverName)\n\u001b[1;32m     30\u001b[0m \u001b[38;5;28;01mexcept\u001b[39;00m \u001b[38;5;167;01mException\u001b[39;00m:\n",
      "File \u001b[0;32m~/PycharmProjects/InterviewerAI/venv/lib/python3.9/site-packages/pyttsx3/__init__.py:22\u001b[0m, in \u001b[0;36minit\u001b[0;34m(driverName, debug)\u001b[0m\n\u001b[1;32m     20\u001b[0m     eng \u001b[38;5;241m=\u001b[39m _activeEngines[driverName]\n\u001b[1;32m     21\u001b[0m \u001b[38;5;28;01mexcept\u001b[39;00m \u001b[38;5;167;01mKeyError\u001b[39;00m:\n\u001b[0;32m---> 22\u001b[0m     eng \u001b[38;5;241m=\u001b[39m \u001b[43mEngine\u001b[49m\u001b[43m(\u001b[49m\u001b[43mdriverName\u001b[49m\u001b[43m,\u001b[49m\u001b[43m \u001b[49m\u001b[43mdebug\u001b[49m\u001b[43m)\u001b[49m\n\u001b[1;32m     23\u001b[0m     _activeEngines[driverName] \u001b[38;5;241m=\u001b[39m eng\n\u001b[1;32m     24\u001b[0m \u001b[38;5;28;01mreturn\u001b[39;00m eng\n",
      "File \u001b[0;32m~/PycharmProjects/InterviewerAI/venv/lib/python3.9/site-packages/pyttsx3/engine.py:30\u001b[0m, in \u001b[0;36mEngine.__init__\u001b[0;34m(self, driverName, debug)\u001b[0m\n\u001b[1;32m     20\u001b[0m \u001b[38;5;28;01mdef\u001b[39;00m \u001b[38;5;21m__init__\u001b[39m(\u001b[38;5;28mself\u001b[39m, driverName\u001b[38;5;241m=\u001b[39m\u001b[38;5;28;01mNone\u001b[39;00m, debug\u001b[38;5;241m=\u001b[39m\u001b[38;5;28;01mFalse\u001b[39;00m):\n\u001b[1;32m     21\u001b[0m \u001b[38;5;250m    \u001b[39m\u001b[38;5;124;03m\"\"\"\u001b[39;00m\n\u001b[1;32m     22\u001b[0m \u001b[38;5;124;03m    Constructs a new TTS engine instance.\u001b[39;00m\n\u001b[1;32m     23\u001b[0m \n\u001b[0;32m   (...)\u001b[0m\n\u001b[1;32m     28\u001b[0m \u001b[38;5;124;03m    @type debug: bool\u001b[39;00m\n\u001b[1;32m     29\u001b[0m \u001b[38;5;124;03m    \"\"\"\u001b[39;00m\n\u001b[0;32m---> 30\u001b[0m     \u001b[38;5;28mself\u001b[39m\u001b[38;5;241m.\u001b[39mproxy \u001b[38;5;241m=\u001b[39m \u001b[43mdriver\u001b[49m\u001b[38;5;241;43m.\u001b[39;49m\u001b[43mDriverProxy\u001b[49m\u001b[43m(\u001b[49m\u001b[43mweakref\u001b[49m\u001b[38;5;241;43m.\u001b[39;49m\u001b[43mproxy\u001b[49m\u001b[43m(\u001b[49m\u001b[38;5;28;43mself\u001b[39;49m\u001b[43m)\u001b[49m\u001b[43m,\u001b[49m\u001b[43m \u001b[49m\u001b[43mdriverName\u001b[49m\u001b[43m,\u001b[49m\u001b[43m \u001b[49m\u001b[43mdebug\u001b[49m\u001b[43m)\u001b[49m\n\u001b[1;32m     31\u001b[0m     \u001b[38;5;66;03m# initialize other vars\u001b[39;00m\n\u001b[1;32m     32\u001b[0m     \u001b[38;5;28mself\u001b[39m\u001b[38;5;241m.\u001b[39m_connects \u001b[38;5;241m=\u001b[39m {}\n",
      "File \u001b[0;32m~/PycharmProjects/InterviewerAI/venv/lib/python3.9/site-packages/pyttsx3/driver.py:50\u001b[0m, in \u001b[0;36mDriverProxy.__init__\u001b[0;34m(self, engine, driverName, debug)\u001b[0m\n\u001b[1;32m     48\u001b[0m \u001b[38;5;66;03m# import driver module\u001b[39;00m\n\u001b[1;32m     49\u001b[0m name \u001b[38;5;241m=\u001b[39m \u001b[38;5;124m'\u001b[39m\u001b[38;5;124mpyttsx3.drivers.\u001b[39m\u001b[38;5;132;01m%s\u001b[39;00m\u001b[38;5;124m'\u001b[39m \u001b[38;5;241m%\u001b[39m driverName\n\u001b[0;32m---> 50\u001b[0m \u001b[38;5;28mself\u001b[39m\u001b[38;5;241m.\u001b[39m_module \u001b[38;5;241m=\u001b[39m \u001b[43mimportlib\u001b[49m\u001b[38;5;241;43m.\u001b[39;49m\u001b[43mimport_module\u001b[49m\u001b[43m(\u001b[49m\u001b[43mname\u001b[49m\u001b[43m)\u001b[49m\n\u001b[1;32m     51\u001b[0m \u001b[38;5;66;03m# build driver instance\u001b[39;00m\n\u001b[1;32m     52\u001b[0m \u001b[38;5;28mself\u001b[39m\u001b[38;5;241m.\u001b[39m_driver \u001b[38;5;241m=\u001b[39m \u001b[38;5;28mself\u001b[39m\u001b[38;5;241m.\u001b[39m_module\u001b[38;5;241m.\u001b[39mbuildDriver(weakref\u001b[38;5;241m.\u001b[39mproxy(\u001b[38;5;28mself\u001b[39m))\n",
      "File \u001b[0;32m/Applications/Xcode.app/Contents/Developer/Library/Frameworks/Python3.framework/Versions/3.9/lib/python3.9/importlib/__init__.py:127\u001b[0m, in \u001b[0;36mimport_module\u001b[0;34m(name, package)\u001b[0m\n\u001b[1;32m    125\u001b[0m             \u001b[38;5;28;01mbreak\u001b[39;00m\n\u001b[1;32m    126\u001b[0m         level \u001b[38;5;241m+\u001b[39m\u001b[38;5;241m=\u001b[39m \u001b[38;5;241m1\u001b[39m\n\u001b[0;32m--> 127\u001b[0m \u001b[38;5;28;01mreturn\u001b[39;00m \u001b[43m_bootstrap\u001b[49m\u001b[38;5;241;43m.\u001b[39;49m\u001b[43m_gcd_import\u001b[49m\u001b[43m(\u001b[49m\u001b[43mname\u001b[49m\u001b[43m[\u001b[49m\u001b[43mlevel\u001b[49m\u001b[43m:\u001b[49m\u001b[43m]\u001b[49m\u001b[43m,\u001b[49m\u001b[43m \u001b[49m\u001b[43mpackage\u001b[49m\u001b[43m,\u001b[49m\u001b[43m \u001b[49m\u001b[43mlevel\u001b[49m\u001b[43m)\u001b[49m\n",
      "File \u001b[0;32m<frozen importlib._bootstrap>:1030\u001b[0m, in \u001b[0;36m_gcd_import\u001b[0;34m(name, package, level)\u001b[0m\n",
      "File \u001b[0;32m<frozen importlib._bootstrap>:1007\u001b[0m, in \u001b[0;36m_find_and_load\u001b[0;34m(name, import_)\u001b[0m\n",
      "File \u001b[0;32m<frozen importlib._bootstrap>:986\u001b[0m, in \u001b[0;36m_find_and_load_unlocked\u001b[0;34m(name, import_)\u001b[0m\n",
      "File \u001b[0;32m<frozen importlib._bootstrap>:680\u001b[0m, in \u001b[0;36m_load_unlocked\u001b[0;34m(spec)\u001b[0m\n",
      "File \u001b[0;32m<frozen importlib._bootstrap_external>:850\u001b[0m, in \u001b[0;36mexec_module\u001b[0;34m(self, module)\u001b[0m\n",
      "File \u001b[0;32m<frozen importlib._bootstrap>:228\u001b[0m, in \u001b[0;36m_call_with_frames_removed\u001b[0;34m(f, *args, **kwds)\u001b[0m\n",
      "File \u001b[0;32m~/PycharmProjects/InterviewerAI/venv/lib/python3.9/site-packages/pyttsx3/drivers/nsss.py:12\u001b[0m\n\u001b[1;32m      8\u001b[0m \u001b[38;5;28;01mfrom\u001b[39;00m \u001b[38;5;21;01m.\u001b[39;00m\u001b[38;5;21;01m.\u001b[39;00m\u001b[38;5;21;01mvoice\u001b[39;00m \u001b[38;5;28;01mimport\u001b[39;00m Voice\n\u001b[1;32m     11\u001b[0m \u001b[38;5;66;03m# noinspection PyUnresolvedReferences\u001b[39;00m\n\u001b[0;32m---> 12\u001b[0m \u001b[38;5;28;01mclass\u001b[39;00m \u001b[38;5;21;01mRunLoopStopper\u001b[39;00m(PyObjCAppHelperRunLoopStopper):\n\u001b[1;32m     13\u001b[0m \u001b[38;5;250m    \u001b[39m\u001b[38;5;124;03m\"\"\"\u001b[39;00m\n\u001b[1;32m     14\u001b[0m \u001b[38;5;124;03m    Overrides PyObjCAppHelperRunLoopStopper to terminate after endLoop.\u001b[39;00m\n\u001b[1;32m     15\u001b[0m \u001b[38;5;124;03m    \"\"\"\u001b[39;00m\n\u001b[1;32m     17\u001b[0m     \u001b[38;5;28;01mdef\u001b[39;00m \u001b[38;5;21m__init__\u001b[39m(\u001b[38;5;28mself\u001b[39m):\n",
      "\u001b[0;31merror\u001b[0m: RunLoopStopper is overriding existing Objective-C class"
     ]
    }
   ],
   "source": [
    "import pyttsx3\n",
    "\n",
    "pyttsx3.speak(\"I will speak this text\")"
   ]
  },
  {
   "cell_type": "code",
   "execution_count": 37,
   "metadata": {},
   "outputs": [
    {
     "ename": "TTSError",
     "evalue": "No supported languages",
     "output_type": "error",
     "traceback": [
      "\u001b[0;31m---------------------------------------------------------------------------\u001b[0m",
      "\u001b[0;31mTTSError\u001b[0m                                  Traceback (most recent call last)",
      "Cell \u001b[0;32mIn[37], line 3\u001b[0m\n\u001b[1;32m      1\u001b[0m \u001b[38;5;28;01mimport\u001b[39;00m \u001b[38;5;21;01mtalkey\u001b[39;00m\n\u001b[0;32m----> 3\u001b[0m tts \u001b[38;5;241m=\u001b[39m \u001b[43mtalkey\u001b[49m\u001b[38;5;241;43m.\u001b[39;49m\u001b[43mTalkey\u001b[49m\u001b[43m(\u001b[49m\u001b[43mpreferred_languages\u001b[49m\u001b[38;5;241;43m=\u001b[39;49m\u001b[43m[\u001b[49m\u001b[38;5;124;43m'\u001b[39;49m\u001b[38;5;124;43men\u001b[39;49m\u001b[38;5;124;43m'\u001b[39;49m\u001b[43m]\u001b[49m\u001b[43m)\u001b[49m\n\u001b[1;32m      5\u001b[0m tts\u001b[38;5;241m.\u001b[39msay(\u001b[38;5;124m\"\u001b[39m\u001b[38;5;124mHello, how are you?\u001b[39m\u001b[38;5;124m\"\u001b[39m)\n",
      "File \u001b[0;32m~/PycharmProjects/InterviewerAI/venv/lib/python3.9/site-packages/talkey/tts.py:103\u001b[0m, in \u001b[0;36mTalkey.__init__\u001b[0;34m(self, preferred_languages, preferred_factor, engine_preference, **config)\u001b[0m\n\u001b[1;32m    100\u001b[0m langid\u001b[38;5;241m.\u001b[39mset_languages(\u001b[38;5;28mself\u001b[39m\u001b[38;5;241m.\u001b[39mlanguages)\n\u001b[1;32m    102\u001b[0m \u001b[38;5;28;01mif\u001b[39;00m \u001b[38;5;129;01mnot\u001b[39;00m \u001b[38;5;28mself\u001b[39m\u001b[38;5;241m.\u001b[39mlanguages:\n\u001b[0;32m--> 103\u001b[0m     \u001b[38;5;28;01mraise\u001b[39;00m TTSError(\u001b[38;5;124m'\u001b[39m\u001b[38;5;124mNo supported languages\u001b[39m\u001b[38;5;124m'\u001b[39m)\n",
      "\u001b[0;31mTTSError\u001b[0m: No supported languages"
     ]
    }
   ],
   "source": [
    "import talkey\n",
    "\n",
    "tts = talkey.Talkey(preferred_languages=['en'])\n",
    "\n",
    "tts.say(\"Hello, how are you?\")"
   ]
  },
  {
   "cell_type": "code",
   "execution_count": 34,
   "metadata": {},
   "outputs": [
    {
     "name": "stdout",
     "output_type": "stream",
     "text": [
      "Collecting talkey\n",
      "  Downloading talkey-0.1.1.tar.gz (15 kB)\n",
      "  Preparing metadata (setup.py) ... \u001b[?25ldone\n",
      "\u001b[?25hCollecting langid (from talkey)\n",
      "  Downloading langid-1.1.6.tar.gz (1.9 MB)\n",
      "\u001b[2K     \u001b[90m━━━━━━━━━━━━━━━━━━━━━━━━━━━━━━━━━━━━━━━━\u001b[0m \u001b[32m1.9/1.9 MB\u001b[0m \u001b[31m8.3 MB/s\u001b[0m eta \u001b[36m0:00:00\u001b[0m00:01\u001b[0m00:01\u001b[0m\n",
      "\u001b[?25h  Preparing metadata (setup.py) ... \u001b[?25ldone\n",
      "\u001b[?25hRequirement already satisfied: requests in ./venv/lib/python3.9/site-packages (from talkey) (2.31.0)\n",
      "Collecting audioread (from talkey)\n",
      "  Downloading audioread-3.0.1-py3-none-any.whl.metadata (8.4 kB)\n",
      "Collecting numpy (from langid->talkey)\n",
      "  Downloading numpy-1.26.4-cp39-cp39-macosx_11_0_arm64.whl.metadata (61 kB)\n",
      "\u001b[2K     \u001b[90m━━━━━━━━━━━━━━━━━━━━━━━━━━━━━━━━━━━━━━━━\u001b[0m \u001b[32m61.1/61.1 kB\u001b[0m \u001b[31m5.8 MB/s\u001b[0m eta \u001b[36m0:00:00\u001b[0m\n",
      "\u001b[?25hRequirement already satisfied: charset-normalizer<4,>=2 in ./venv/lib/python3.9/site-packages (from requests->talkey) (3.3.2)\n",
      "Requirement already satisfied: idna<4,>=2.5 in ./venv/lib/python3.9/site-packages (from requests->talkey) (3.6)\n",
      "Requirement already satisfied: urllib3<3,>=1.21.1 in ./venv/lib/python3.9/site-packages (from requests->talkey) (2.2.0)\n",
      "Requirement already satisfied: certifi>=2017.4.17 in ./venv/lib/python3.9/site-packages (from requests->talkey) (2024.2.2)\n",
      "Downloading audioread-3.0.1-py3-none-any.whl (23 kB)\n",
      "Downloading numpy-1.26.4-cp39-cp39-macosx_11_0_arm64.whl (14.0 MB)\n",
      "\u001b[2K   \u001b[90m━━━━━━━━━━━━━━━━━━━━━━━━━━━━━━━━━━━━━━━━\u001b[0m \u001b[32m14.0/14.0 MB\u001b[0m \u001b[31m6.1 MB/s\u001b[0m eta \u001b[36m0:00:00\u001b[0m00:01\u001b[0m00:01\u001b[0m\n",
      "\u001b[?25hBuilding wheels for collected packages: talkey, langid\n",
      "  Building wheel for talkey (setup.py) ... \u001b[?25ldone\n",
      "\u001b[?25h  Created wheel for talkey: filename=talkey-0.1.1-py3-none-any.whl size=19196 sha256=b3a300265caf5cd6ddaa680f74a412ceddb983e3e8dc0bd8955d9b48af3106a9\n",
      "  Stored in directory: /Users/ratanprakash/Library/Caches/pip/wheels/42/3d/7e/9aa3f53dbd1c408d23e40f980786360d96687e00af4aed2b98\n",
      "  Building wheel for langid (setup.py) ... \u001b[?25ldone\n",
      "\u001b[?25h  Created wheel for langid: filename=langid-1.1.6-py3-none-any.whl size=1941187 sha256=224405749191afcdb58ccc9eb5524e423384beb3c4f6fef81c690e6ded8d8827\n",
      "  Stored in directory: /Users/ratanprakash/Library/Caches/pip/wheels/93/95/a9/c292c9dd8cadb8f2359f1670ff198a40d47167b0be3236e1c8\n",
      "Successfully built talkey langid\n",
      "Installing collected packages: numpy, audioread, langid, talkey\n",
      "Successfully installed audioread-3.0.1 langid-1.1.6 numpy-1.26.4 talkey-0.1.1\n"
     ]
    }
   ],
   "source": [
    "!pip install talkey"
   ]
  },
  {
   "cell_type": "code",
   "execution_count": 45,
   "metadata": {},
   "outputs": [
    {
     "ename": "error",
     "evalue": "RunLoopStopper is overriding existing Objective-C class",
     "output_type": "error",
     "traceback": [
      "\u001b[0;31m---------------------------------------------------------------------------\u001b[0m",
      "\u001b[0;31mKeyError\u001b[0m                                  Traceback (most recent call last)",
      "File \u001b[0;32m~/PycharmProjects/InterviewerAI/venv/lib/python3.9/site-packages/pyttsx3/__init__.py:20\u001b[0m, in \u001b[0;36minit\u001b[0;34m(driverName, debug)\u001b[0m\n\u001b[1;32m     19\u001b[0m \u001b[38;5;28;01mtry\u001b[39;00m:\n\u001b[0;32m---> 20\u001b[0m     eng \u001b[38;5;241m=\u001b[39m \u001b[43m_activeEngines\u001b[49m\u001b[43m[\u001b[49m\u001b[43mdriverName\u001b[49m\u001b[43m]\u001b[49m\n\u001b[1;32m     21\u001b[0m \u001b[38;5;28;01mexcept\u001b[39;00m \u001b[38;5;167;01mKeyError\u001b[39;00m:\n",
      "File \u001b[0;32m/Applications/Xcode.app/Contents/Developer/Library/Frameworks/Python3.framework/Versions/3.9/lib/python3.9/weakref.py:134\u001b[0m, in \u001b[0;36mWeakValueDictionary.__getitem__\u001b[0;34m(self, key)\u001b[0m\n\u001b[1;32m    133\u001b[0m     \u001b[38;5;28mself\u001b[39m\u001b[38;5;241m.\u001b[39m_commit_removals()\n\u001b[0;32m--> 134\u001b[0m o \u001b[38;5;241m=\u001b[39m \u001b[38;5;28;43mself\u001b[39;49m\u001b[38;5;241;43m.\u001b[39;49m\u001b[43mdata\u001b[49m\u001b[43m[\u001b[49m\u001b[43mkey\u001b[49m\u001b[43m]\u001b[49m()\n\u001b[1;32m    135\u001b[0m \u001b[38;5;28;01mif\u001b[39;00m o \u001b[38;5;129;01mis\u001b[39;00m \u001b[38;5;28;01mNone\u001b[39;00m:\n",
      "\u001b[0;31mKeyError\u001b[0m: 'nsss'",
      "\nDuring handling of the above exception, another exception occurred:\n",
      "\u001b[0;31merror\u001b[0m                                     Traceback (most recent call last)",
      "Cell \u001b[0;32mIn[45], line 6\u001b[0m\n\u001b[1;32m      3\u001b[0m \u001b[38;5;28;01mimport\u001b[39;00m \u001b[38;5;21;01mpyttsx3\u001b[39;00m \n\u001b[1;32m      5\u001b[0m \u001b[38;5;66;03m# Initialize the converter \u001b[39;00m\n\u001b[0;32m----> 6\u001b[0m converter \u001b[38;5;241m=\u001b[39m \u001b[43mpyttsx3\u001b[49m\u001b[38;5;241;43m.\u001b[39;49m\u001b[43minit\u001b[49m\u001b[43m(\u001b[49m\u001b[43mdriverName\u001b[49m\u001b[38;5;241;43m=\u001b[39;49m\u001b[38;5;124;43m'\u001b[39;49m\u001b[38;5;124;43mnsss\u001b[39;49m\u001b[38;5;124;43m'\u001b[39;49m\u001b[43m)\u001b[49m \n\u001b[1;32m      8\u001b[0m \u001b[38;5;66;03m# Set properties before adding \u001b[39;00m\n\u001b[1;32m      9\u001b[0m \u001b[38;5;66;03m# Things to say \u001b[39;00m\n\u001b[1;32m     10\u001b[0m \n\u001b[1;32m     11\u001b[0m \u001b[38;5;66;03m# Sets speed percent \u001b[39;00m\n\u001b[1;32m     12\u001b[0m \u001b[38;5;66;03m# Can be more than 100 \u001b[39;00m\n\u001b[1;32m     13\u001b[0m converter\u001b[38;5;241m.\u001b[39msetProperty(\u001b[38;5;124m'\u001b[39m\u001b[38;5;124mrate\u001b[39m\u001b[38;5;124m'\u001b[39m, \u001b[38;5;241m150\u001b[39m) \n",
      "File \u001b[0;32m~/PycharmProjects/InterviewerAI/venv/lib/python3.9/site-packages/pyttsx3/__init__.py:22\u001b[0m, in \u001b[0;36minit\u001b[0;34m(driverName, debug)\u001b[0m\n\u001b[1;32m     20\u001b[0m     eng \u001b[38;5;241m=\u001b[39m _activeEngines[driverName]\n\u001b[1;32m     21\u001b[0m \u001b[38;5;28;01mexcept\u001b[39;00m \u001b[38;5;167;01mKeyError\u001b[39;00m:\n\u001b[0;32m---> 22\u001b[0m     eng \u001b[38;5;241m=\u001b[39m \u001b[43mEngine\u001b[49m\u001b[43m(\u001b[49m\u001b[43mdriverName\u001b[49m\u001b[43m,\u001b[49m\u001b[43m \u001b[49m\u001b[43mdebug\u001b[49m\u001b[43m)\u001b[49m\n\u001b[1;32m     23\u001b[0m     _activeEngines[driverName] \u001b[38;5;241m=\u001b[39m eng\n\u001b[1;32m     24\u001b[0m \u001b[38;5;28;01mreturn\u001b[39;00m eng\n",
      "File \u001b[0;32m~/PycharmProjects/InterviewerAI/venv/lib/python3.9/site-packages/pyttsx3/engine.py:30\u001b[0m, in \u001b[0;36mEngine.__init__\u001b[0;34m(self, driverName, debug)\u001b[0m\n\u001b[1;32m     20\u001b[0m \u001b[38;5;28;01mdef\u001b[39;00m \u001b[38;5;21m__init__\u001b[39m(\u001b[38;5;28mself\u001b[39m, driverName\u001b[38;5;241m=\u001b[39m\u001b[38;5;28;01mNone\u001b[39;00m, debug\u001b[38;5;241m=\u001b[39m\u001b[38;5;28;01mFalse\u001b[39;00m):\n\u001b[1;32m     21\u001b[0m \u001b[38;5;250m    \u001b[39m\u001b[38;5;124;03m\"\"\"\u001b[39;00m\n\u001b[1;32m     22\u001b[0m \u001b[38;5;124;03m    Constructs a new TTS engine instance.\u001b[39;00m\n\u001b[1;32m     23\u001b[0m \n\u001b[0;32m   (...)\u001b[0m\n\u001b[1;32m     28\u001b[0m \u001b[38;5;124;03m    @type debug: bool\u001b[39;00m\n\u001b[1;32m     29\u001b[0m \u001b[38;5;124;03m    \"\"\"\u001b[39;00m\n\u001b[0;32m---> 30\u001b[0m     \u001b[38;5;28mself\u001b[39m\u001b[38;5;241m.\u001b[39mproxy \u001b[38;5;241m=\u001b[39m \u001b[43mdriver\u001b[49m\u001b[38;5;241;43m.\u001b[39;49m\u001b[43mDriverProxy\u001b[49m\u001b[43m(\u001b[49m\u001b[43mweakref\u001b[49m\u001b[38;5;241;43m.\u001b[39;49m\u001b[43mproxy\u001b[49m\u001b[43m(\u001b[49m\u001b[38;5;28;43mself\u001b[39;49m\u001b[43m)\u001b[49m\u001b[43m,\u001b[49m\u001b[43m \u001b[49m\u001b[43mdriverName\u001b[49m\u001b[43m,\u001b[49m\u001b[43m \u001b[49m\u001b[43mdebug\u001b[49m\u001b[43m)\u001b[49m\n\u001b[1;32m     31\u001b[0m     \u001b[38;5;66;03m# initialize other vars\u001b[39;00m\n\u001b[1;32m     32\u001b[0m     \u001b[38;5;28mself\u001b[39m\u001b[38;5;241m.\u001b[39m_connects \u001b[38;5;241m=\u001b[39m {}\n",
      "File \u001b[0;32m~/PycharmProjects/InterviewerAI/venv/lib/python3.9/site-packages/pyttsx3/driver.py:50\u001b[0m, in \u001b[0;36mDriverProxy.__init__\u001b[0;34m(self, engine, driverName, debug)\u001b[0m\n\u001b[1;32m     48\u001b[0m \u001b[38;5;66;03m# import driver module\u001b[39;00m\n\u001b[1;32m     49\u001b[0m name \u001b[38;5;241m=\u001b[39m \u001b[38;5;124m'\u001b[39m\u001b[38;5;124mpyttsx3.drivers.\u001b[39m\u001b[38;5;132;01m%s\u001b[39;00m\u001b[38;5;124m'\u001b[39m \u001b[38;5;241m%\u001b[39m driverName\n\u001b[0;32m---> 50\u001b[0m \u001b[38;5;28mself\u001b[39m\u001b[38;5;241m.\u001b[39m_module \u001b[38;5;241m=\u001b[39m \u001b[43mimportlib\u001b[49m\u001b[38;5;241;43m.\u001b[39;49m\u001b[43mimport_module\u001b[49m\u001b[43m(\u001b[49m\u001b[43mname\u001b[49m\u001b[43m)\u001b[49m\n\u001b[1;32m     51\u001b[0m \u001b[38;5;66;03m# build driver instance\u001b[39;00m\n\u001b[1;32m     52\u001b[0m \u001b[38;5;28mself\u001b[39m\u001b[38;5;241m.\u001b[39m_driver \u001b[38;5;241m=\u001b[39m \u001b[38;5;28mself\u001b[39m\u001b[38;5;241m.\u001b[39m_module\u001b[38;5;241m.\u001b[39mbuildDriver(weakref\u001b[38;5;241m.\u001b[39mproxy(\u001b[38;5;28mself\u001b[39m))\n",
      "File \u001b[0;32m/Applications/Xcode.app/Contents/Developer/Library/Frameworks/Python3.framework/Versions/3.9/lib/python3.9/importlib/__init__.py:127\u001b[0m, in \u001b[0;36mimport_module\u001b[0;34m(name, package)\u001b[0m\n\u001b[1;32m    125\u001b[0m             \u001b[38;5;28;01mbreak\u001b[39;00m\n\u001b[1;32m    126\u001b[0m         level \u001b[38;5;241m+\u001b[39m\u001b[38;5;241m=\u001b[39m \u001b[38;5;241m1\u001b[39m\n\u001b[0;32m--> 127\u001b[0m \u001b[38;5;28;01mreturn\u001b[39;00m \u001b[43m_bootstrap\u001b[49m\u001b[38;5;241;43m.\u001b[39;49m\u001b[43m_gcd_import\u001b[49m\u001b[43m(\u001b[49m\u001b[43mname\u001b[49m\u001b[43m[\u001b[49m\u001b[43mlevel\u001b[49m\u001b[43m:\u001b[49m\u001b[43m]\u001b[49m\u001b[43m,\u001b[49m\u001b[43m \u001b[49m\u001b[43mpackage\u001b[49m\u001b[43m,\u001b[49m\u001b[43m \u001b[49m\u001b[43mlevel\u001b[49m\u001b[43m)\u001b[49m\n",
      "File \u001b[0;32m<frozen importlib._bootstrap>:1030\u001b[0m, in \u001b[0;36m_gcd_import\u001b[0;34m(name, package, level)\u001b[0m\n",
      "File \u001b[0;32m<frozen importlib._bootstrap>:1007\u001b[0m, in \u001b[0;36m_find_and_load\u001b[0;34m(name, import_)\u001b[0m\n",
      "File \u001b[0;32m<frozen importlib._bootstrap>:986\u001b[0m, in \u001b[0;36m_find_and_load_unlocked\u001b[0;34m(name, import_)\u001b[0m\n",
      "File \u001b[0;32m<frozen importlib._bootstrap>:680\u001b[0m, in \u001b[0;36m_load_unlocked\u001b[0;34m(spec)\u001b[0m\n",
      "File \u001b[0;32m<frozen importlib._bootstrap_external>:850\u001b[0m, in \u001b[0;36mexec_module\u001b[0;34m(self, module)\u001b[0m\n",
      "File \u001b[0;32m<frozen importlib._bootstrap>:228\u001b[0m, in \u001b[0;36m_call_with_frames_removed\u001b[0;34m(f, *args, **kwds)\u001b[0m\n",
      "File \u001b[0;32m~/PycharmProjects/InterviewerAI/venv/lib/python3.9/site-packages/pyttsx3/drivers/nsss.py:12\u001b[0m\n\u001b[1;32m      8\u001b[0m \u001b[38;5;28;01mfrom\u001b[39;00m \u001b[38;5;21;01m.\u001b[39;00m\u001b[38;5;21;01m.\u001b[39;00m\u001b[38;5;21;01mvoice\u001b[39;00m \u001b[38;5;28;01mimport\u001b[39;00m Voice\n\u001b[1;32m     11\u001b[0m \u001b[38;5;66;03m# noinspection PyUnresolvedReferences\u001b[39;00m\n\u001b[0;32m---> 12\u001b[0m \u001b[38;5;28;01mclass\u001b[39;00m \u001b[38;5;21;01mRunLoopStopper\u001b[39;00m(PyObjCAppHelperRunLoopStopper):\n\u001b[1;32m     13\u001b[0m \u001b[38;5;250m    \u001b[39m\u001b[38;5;124;03m\"\"\"\u001b[39;00m\n\u001b[1;32m     14\u001b[0m \u001b[38;5;124;03m    Overrides PyObjCAppHelperRunLoopStopper to terminate after endLoop.\u001b[39;00m\n\u001b[1;32m     15\u001b[0m \u001b[38;5;124;03m    \"\"\"\u001b[39;00m\n\u001b[1;32m     17\u001b[0m     \u001b[38;5;28;01mdef\u001b[39;00m \u001b[38;5;21m__init__\u001b[39m(\u001b[38;5;28mself\u001b[39m):\n",
      "\u001b[0;31merror\u001b[0m: RunLoopStopper is overriding existing Objective-C class"
     ]
    }
   ],
   "source": [
    "# Python program to show \n",
    "# how to convert text to speech \n",
    "import pyttsx3 \n",
    "\n",
    "# Initialize the converter \n",
    "converter = pyttsx3.init(driverName='nsss') \n",
    "\n",
    "# Set properties before adding \n",
    "# Things to say \n",
    "\n",
    "# Sets speed percent \n",
    "# Can be more than 100 \n",
    "converter.setProperty('rate', 150) \n",
    "# Set volume 0-1 \n",
    "converter.setProperty('volume', 0.7) \n",
    "\n",
    "# Queue the entered text \n",
    "# There will be a pause between \n",
    "# each one like a pause in \n",
    "# a sentence \n",
    "converter.say(\"Hello GeeksforGeeks\") \n",
    "converter.say(\"I'm also a geek\") \n",
    "\n",
    "# Empties the say() queue \n",
    "# Program will not continue \n",
    "# until all speech is done talking \n",
    "converter.runAndWait() \n"
   ]
  },
  {
   "cell_type": "code",
   "execution_count": 44,
   "metadata": {},
   "outputs": [
    {
     "name": "stdout",
     "output_type": "stream",
     "text": [
      "Voice:\n",
      "ID: dummy.voice1\n",
      "Name: John Doe\n",
      "Age: adult\n",
      "Gender: male\n",
      "Languages Known: ['en-US', 'en-GB']\n",
      "Voice:\n",
      "ID: dummy.voice2\n",
      "Name: Jane Doe\n",
      "Age: adult\n",
      "Gender: female\n",
      "Languages Known: ['en-US', 'en-GB']\n",
      "Voice:\n",
      "ID: dummy.voice3\n",
      "Name: Jimmy Doe\n",
      "Age: 10\n",
      "Gender: male\n",
      "Languages Known: ['en-US', 'en-GB']\n"
     ]
    }
   ],
   "source": [
    "voices = converter.getProperty('voices') \n",
    "\n",
    "for voice in voices: \n",
    "\t# to get the info. about various voices in our PC \n",
    "\tprint(\"Voice:\") \n",
    "\tprint(\"ID: %s\" %voice.id) \n",
    "\tprint(\"Name: %s\" %voice.name) \n",
    "\tprint(\"Age: %s\" %voice.age) \n",
    "\tprint(\"Gender: %s\" %voice.gender) \n",
    "\tprint(\"Languages Known: %s\" %voice.languages) \n"
   ]
  },
  {
   "cell_type": "code",
   "execution_count": null,
   "metadata": {},
   "outputs": [],
   "source": []
  }
 ],
 "metadata": {
  "kernelspec": {
   "display_name": "venv",
   "language": "python",
   "name": "python3"
  },
  "language_info": {
   "codemirror_mode": {
    "name": "ipython",
    "version": 3
   },
   "file_extension": ".py",
   "mimetype": "text/x-python",
   "name": "python",
   "nbconvert_exporter": "python",
   "pygments_lexer": "ipython3",
   "version": "3.9.6"
  }
 },
 "nbformat": 4,
 "nbformat_minor": 2
}
